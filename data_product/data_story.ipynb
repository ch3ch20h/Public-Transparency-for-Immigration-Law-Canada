{
 "cells": [
  {
   "cell_type": "markdown",
   "id": "6ffde648",
   "metadata": {},
   "source": [
    "# Litigation and A34(1) Refusal Trends in Canadian Immigration"
   ]
  },
  {
   "cell_type": "markdown",
   "id": "c796a74e",
   "metadata": {},
   "source": [
    "## 1. Background and Datasets\n",
    "We received two datasets from our partner organization, which were originally requested from IRCC:\n",
    "\n",
    "- A34(1) Refusals: Covers temporary and permanent resident applications refused between Jan 1, 2019 – Dec 31, 2024, grouped by country of residence and citizenship.\n",
    "\n",
    "- Litigation Applications: Covers litigation data from Jan 2018 – Dec 2023, broken down by case type, leave decision, country of citizenship, and processing office.\n",
    "\n",
    "This narrative is based on the trends we found from both datasets. It tries to explore some of the key themes raised by our partner, such as the role of geopolitics, anti-Black racism, general trends in litigation, and what gaps still exist in the data."
   ]
  },
  {
   "cell_type": "code",
   "execution_count": 1,
   "id": "87693003",
   "metadata": {},
   "outputs": [],
   "source": [
    "import pandas as pd\n",
    "import plotly.express as px\n",
    "import plotly.graph_objects as go\n",
    "from plotly.subplots import make_subplots"
   ]
  },
  {
   "cell_type": "code",
   "execution_count": 2,
   "id": "fb8fe110",
   "metadata": {},
   "outputs": [],
   "source": [
    "lit = pd.read_excel(\"../data/raw/litigation_cases.xlsx\", skiprows=5, skipfooter=7)"
   ]
  },
  {
   "cell_type": "code",
   "execution_count": 3,
   "id": "affc13d7",
   "metadata": {},
   "outputs": [],
   "source": [
    "ref = pd.read_csv('../data/processed/a34_1_refused_cleaned.csv')"
   ]
  },
  {
   "cell_type": "markdown",
   "id": "65273573",
   "metadata": {},
   "source": [
    "## 2. Standardizing the Litigation Data\n",
    "To make the litigation data easier to analyze, we standardized the column \"LIT Leave Decision Desc\":\n",
    "\n",
    "- We grouped \"Discontinued - Withdrawn at Leave\" and \"Discontinued - Consent at Leave\" under Discontinued.\n",
    "\n",
    "- \"Allowed - Consent\" was merged into Allowed.\n",
    "\n",
    "These categories were quite similar in meaning, and merging them helped simplify the analysis, especially when comparing outcomes across countries."
   ]
  },
  {
   "cell_type": "code",
   "execution_count": 4,
   "id": "b54dd966",
   "metadata": {},
   "outputs": [],
   "source": [
    "# Standardizing Leave decision\n",
    "lit['LIT Leave Decision Desc'] = lit['LIT Leave Decision Desc'].replace(\n",
    "    to_replace=r'^Discontinued.*', value='Discontinued', regex=True\n",
    ")\n",
    "\n",
    "lit['LIT Leave Decision Desc'] = lit['LIT Leave Decision Desc'].replace(\n",
    "    to_replace=r'^Dismissed.*', value='Dismissed', regex=True\n",
    ")\n",
    "\n",
    "lit['LIT Leave Decision Desc'] = lit['LIT Leave Decision Desc'].replace(\n",
    "    to_replace=r'^Allowed.*', value='Allowed', regex=True\n",
    ")"
   ]
  },
  {
   "cell_type": "markdown",
   "id": "909b9d72",
   "metadata": {},
   "source": [
    "## 3. Countries Showing Up in Both Datasets\n",
    "When we looked at the top countries in both litigation counts and A34(1) refusals, we found a few countries that showed up in both lists:\n",
    "\n",
    "- Iran: 4,503 litigation cases and 70 A34(1) refusals\n",
    "\n",
    "- India: 6,825 litigations and 32 refusals\n",
    "\n",
    "- China: 3,223 litigations and 57 refusals\n",
    "\n",
    "This suggests these countries are being scrutinized more, though that is just a hypothesis. We would need more data (like total application numbers or approval rates) to say anything with certainty.\n",
    "\n",
    "At the same time, some countries only appear in one list:\n",
    "\n",
    "- Nigeria had the highest number of litigation cases (7,819) but only 6 A34(1) refusals.\n",
    "\n",
    "- Ukraine and Syria had very high A34(1) refusals (176 and 101), but they are not even in the top 10 for litigation counts."
   ]
  },
  {
   "cell_type": "code",
   "execution_count": 5,
   "id": "48b4e009",
   "metadata": {},
   "outputs": [
    {
     "data": {
      "application/vnd.plotly.v1+json": {
       "config": {
        "plotlyServerURL": "https://plot.ly"
       },
       "data": [
        {
         "hovertemplate": "Country of Citizenship=%{x}<br>LIT Litigation Count=%{y}<extra></extra>",
         "legendgroup": "",
         "marker": {
          "color": "#636efa",
          "pattern": {
           "shape": ""
          }
         },
         "name": "",
         "orientation": "v",
         "showlegend": false,
         "textposition": "auto",
         "texttemplate": "%{y}",
         "type": "bar",
         "x": [
          "Nigeria",
          "India",
          "Iran",
          "People's Republic of China",
          "Pakistan",
          "Mexico",
          "Haiti",
          "Colombia",
          "United States of America",
          "Philippines"
         ],
         "xaxis": "x",
         "y": {
          "bdata": "ix6pGpcRlwxnCNQHegbHBYUDlAI=",
          "dtype": "i2"
         },
         "yaxis": "y"
        }
       ],
       "layout": {
        "barmode": "relative",
        "legend": {
         "tracegroupgap": 0
        },
        "template": {
         "data": {
          "bar": [
           {
            "error_x": {
             "color": "#2a3f5f"
            },
            "error_y": {
             "color": "#2a3f5f"
            },
            "marker": {
             "line": {
              "color": "#E5ECF6",
              "width": 0.5
             },
             "pattern": {
              "fillmode": "overlay",
              "size": 10,
              "solidity": 0.2
             }
            },
            "type": "bar"
           }
          ],
          "barpolar": [
           {
            "marker": {
             "line": {
              "color": "#E5ECF6",
              "width": 0.5
             },
             "pattern": {
              "fillmode": "overlay",
              "size": 10,
              "solidity": 0.2
             }
            },
            "type": "barpolar"
           }
          ],
          "carpet": [
           {
            "aaxis": {
             "endlinecolor": "#2a3f5f",
             "gridcolor": "white",
             "linecolor": "white",
             "minorgridcolor": "white",
             "startlinecolor": "#2a3f5f"
            },
            "baxis": {
             "endlinecolor": "#2a3f5f",
             "gridcolor": "white",
             "linecolor": "white",
             "minorgridcolor": "white",
             "startlinecolor": "#2a3f5f"
            },
            "type": "carpet"
           }
          ],
          "choropleth": [
           {
            "colorbar": {
             "outlinewidth": 0,
             "ticks": ""
            },
            "type": "choropleth"
           }
          ],
          "contour": [
           {
            "colorbar": {
             "outlinewidth": 0,
             "ticks": ""
            },
            "colorscale": [
             [
              0,
              "#0d0887"
             ],
             [
              0.1111111111111111,
              "#46039f"
             ],
             [
              0.2222222222222222,
              "#7201a8"
             ],
             [
              0.3333333333333333,
              "#9c179e"
             ],
             [
              0.4444444444444444,
              "#bd3786"
             ],
             [
              0.5555555555555556,
              "#d8576b"
             ],
             [
              0.6666666666666666,
              "#ed7953"
             ],
             [
              0.7777777777777778,
              "#fb9f3a"
             ],
             [
              0.8888888888888888,
              "#fdca26"
             ],
             [
              1,
              "#f0f921"
             ]
            ],
            "type": "contour"
           }
          ],
          "contourcarpet": [
           {
            "colorbar": {
             "outlinewidth": 0,
             "ticks": ""
            },
            "type": "contourcarpet"
           }
          ],
          "heatmap": [
           {
            "colorbar": {
             "outlinewidth": 0,
             "ticks": ""
            },
            "colorscale": [
             [
              0,
              "#0d0887"
             ],
             [
              0.1111111111111111,
              "#46039f"
             ],
             [
              0.2222222222222222,
              "#7201a8"
             ],
             [
              0.3333333333333333,
              "#9c179e"
             ],
             [
              0.4444444444444444,
              "#bd3786"
             ],
             [
              0.5555555555555556,
              "#d8576b"
             ],
             [
              0.6666666666666666,
              "#ed7953"
             ],
             [
              0.7777777777777778,
              "#fb9f3a"
             ],
             [
              0.8888888888888888,
              "#fdca26"
             ],
             [
              1,
              "#f0f921"
             ]
            ],
            "type": "heatmap"
           }
          ],
          "histogram": [
           {
            "marker": {
             "pattern": {
              "fillmode": "overlay",
              "size": 10,
              "solidity": 0.2
             }
            },
            "type": "histogram"
           }
          ],
          "histogram2d": [
           {
            "colorbar": {
             "outlinewidth": 0,
             "ticks": ""
            },
            "colorscale": [
             [
              0,
              "#0d0887"
             ],
             [
              0.1111111111111111,
              "#46039f"
             ],
             [
              0.2222222222222222,
              "#7201a8"
             ],
             [
              0.3333333333333333,
              "#9c179e"
             ],
             [
              0.4444444444444444,
              "#bd3786"
             ],
             [
              0.5555555555555556,
              "#d8576b"
             ],
             [
              0.6666666666666666,
              "#ed7953"
             ],
             [
              0.7777777777777778,
              "#fb9f3a"
             ],
             [
              0.8888888888888888,
              "#fdca26"
             ],
             [
              1,
              "#f0f921"
             ]
            ],
            "type": "histogram2d"
           }
          ],
          "histogram2dcontour": [
           {
            "colorbar": {
             "outlinewidth": 0,
             "ticks": ""
            },
            "colorscale": [
             [
              0,
              "#0d0887"
             ],
             [
              0.1111111111111111,
              "#46039f"
             ],
             [
              0.2222222222222222,
              "#7201a8"
             ],
             [
              0.3333333333333333,
              "#9c179e"
             ],
             [
              0.4444444444444444,
              "#bd3786"
             ],
             [
              0.5555555555555556,
              "#d8576b"
             ],
             [
              0.6666666666666666,
              "#ed7953"
             ],
             [
              0.7777777777777778,
              "#fb9f3a"
             ],
             [
              0.8888888888888888,
              "#fdca26"
             ],
             [
              1,
              "#f0f921"
             ]
            ],
            "type": "histogram2dcontour"
           }
          ],
          "mesh3d": [
           {
            "colorbar": {
             "outlinewidth": 0,
             "ticks": ""
            },
            "type": "mesh3d"
           }
          ],
          "parcoords": [
           {
            "line": {
             "colorbar": {
              "outlinewidth": 0,
              "ticks": ""
             }
            },
            "type": "parcoords"
           }
          ],
          "pie": [
           {
            "automargin": true,
            "type": "pie"
           }
          ],
          "scatter": [
           {
            "fillpattern": {
             "fillmode": "overlay",
             "size": 10,
             "solidity": 0.2
            },
            "type": "scatter"
           }
          ],
          "scatter3d": [
           {
            "line": {
             "colorbar": {
              "outlinewidth": 0,
              "ticks": ""
             }
            },
            "marker": {
             "colorbar": {
              "outlinewidth": 0,
              "ticks": ""
             }
            },
            "type": "scatter3d"
           }
          ],
          "scattercarpet": [
           {
            "marker": {
             "colorbar": {
              "outlinewidth": 0,
              "ticks": ""
             }
            },
            "type": "scattercarpet"
           }
          ],
          "scattergeo": [
           {
            "marker": {
             "colorbar": {
              "outlinewidth": 0,
              "ticks": ""
             }
            },
            "type": "scattergeo"
           }
          ],
          "scattergl": [
           {
            "marker": {
             "colorbar": {
              "outlinewidth": 0,
              "ticks": ""
             }
            },
            "type": "scattergl"
           }
          ],
          "scattermap": [
           {
            "marker": {
             "colorbar": {
              "outlinewidth": 0,
              "ticks": ""
             }
            },
            "type": "scattermap"
           }
          ],
          "scattermapbox": [
           {
            "marker": {
             "colorbar": {
              "outlinewidth": 0,
              "ticks": ""
             }
            },
            "type": "scattermapbox"
           }
          ],
          "scatterpolar": [
           {
            "marker": {
             "colorbar": {
              "outlinewidth": 0,
              "ticks": ""
             }
            },
            "type": "scatterpolar"
           }
          ],
          "scatterpolargl": [
           {
            "marker": {
             "colorbar": {
              "outlinewidth": 0,
              "ticks": ""
             }
            },
            "type": "scatterpolargl"
           }
          ],
          "scatterternary": [
           {
            "marker": {
             "colorbar": {
              "outlinewidth": 0,
              "ticks": ""
             }
            },
            "type": "scatterternary"
           }
          ],
          "surface": [
           {
            "colorbar": {
             "outlinewidth": 0,
             "ticks": ""
            },
            "colorscale": [
             [
              0,
              "#0d0887"
             ],
             [
              0.1111111111111111,
              "#46039f"
             ],
             [
              0.2222222222222222,
              "#7201a8"
             ],
             [
              0.3333333333333333,
              "#9c179e"
             ],
             [
              0.4444444444444444,
              "#bd3786"
             ],
             [
              0.5555555555555556,
              "#d8576b"
             ],
             [
              0.6666666666666666,
              "#ed7953"
             ],
             [
              0.7777777777777778,
              "#fb9f3a"
             ],
             [
              0.8888888888888888,
              "#fdca26"
             ],
             [
              1,
              "#f0f921"
             ]
            ],
            "type": "surface"
           }
          ],
          "table": [
           {
            "cells": {
             "fill": {
              "color": "#EBF0F8"
             },
             "line": {
              "color": "white"
             }
            },
            "header": {
             "fill": {
              "color": "#C8D4E3"
             },
             "line": {
              "color": "white"
             }
            },
            "type": "table"
           }
          ]
         },
         "layout": {
          "annotationdefaults": {
           "arrowcolor": "#2a3f5f",
           "arrowhead": 0,
           "arrowwidth": 1
          },
          "autotypenumbers": "strict",
          "coloraxis": {
           "colorbar": {
            "outlinewidth": 0,
            "ticks": ""
           }
          },
          "colorscale": {
           "diverging": [
            [
             0,
             "#8e0152"
            ],
            [
             0.1,
             "#c51b7d"
            ],
            [
             0.2,
             "#de77ae"
            ],
            [
             0.3,
             "#f1b6da"
            ],
            [
             0.4,
             "#fde0ef"
            ],
            [
             0.5,
             "#f7f7f7"
            ],
            [
             0.6,
             "#e6f5d0"
            ],
            [
             0.7,
             "#b8e186"
            ],
            [
             0.8,
             "#7fbc41"
            ],
            [
             0.9,
             "#4d9221"
            ],
            [
             1,
             "#276419"
            ]
           ],
           "sequential": [
            [
             0,
             "#0d0887"
            ],
            [
             0.1111111111111111,
             "#46039f"
            ],
            [
             0.2222222222222222,
             "#7201a8"
            ],
            [
             0.3333333333333333,
             "#9c179e"
            ],
            [
             0.4444444444444444,
             "#bd3786"
            ],
            [
             0.5555555555555556,
             "#d8576b"
            ],
            [
             0.6666666666666666,
             "#ed7953"
            ],
            [
             0.7777777777777778,
             "#fb9f3a"
            ],
            [
             0.8888888888888888,
             "#fdca26"
            ],
            [
             1,
             "#f0f921"
            ]
           ],
           "sequentialminus": [
            [
             0,
             "#0d0887"
            ],
            [
             0.1111111111111111,
             "#46039f"
            ],
            [
             0.2222222222222222,
             "#7201a8"
            ],
            [
             0.3333333333333333,
             "#9c179e"
            ],
            [
             0.4444444444444444,
             "#bd3786"
            ],
            [
             0.5555555555555556,
             "#d8576b"
            ],
            [
             0.6666666666666666,
             "#ed7953"
            ],
            [
             0.7777777777777778,
             "#fb9f3a"
            ],
            [
             0.8888888888888888,
             "#fdca26"
            ],
            [
             1,
             "#f0f921"
            ]
           ]
          },
          "colorway": [
           "#636efa",
           "#EF553B",
           "#00cc96",
           "#ab63fa",
           "#FFA15A",
           "#19d3f3",
           "#FF6692",
           "#B6E880",
           "#FF97FF",
           "#FECB52"
          ],
          "font": {
           "color": "#2a3f5f"
          },
          "geo": {
           "bgcolor": "white",
           "lakecolor": "white",
           "landcolor": "#E5ECF6",
           "showlakes": true,
           "showland": true,
           "subunitcolor": "white"
          },
          "hoverlabel": {
           "align": "left"
          },
          "hovermode": "closest",
          "mapbox": {
           "style": "light"
          },
          "paper_bgcolor": "white",
          "plot_bgcolor": "#E5ECF6",
          "polar": {
           "angularaxis": {
            "gridcolor": "white",
            "linecolor": "white",
            "ticks": ""
           },
           "bgcolor": "#E5ECF6",
           "radialaxis": {
            "gridcolor": "white",
            "linecolor": "white",
            "ticks": ""
           }
          },
          "scene": {
           "xaxis": {
            "backgroundcolor": "#E5ECF6",
            "gridcolor": "white",
            "gridwidth": 2,
            "linecolor": "white",
            "showbackground": true,
            "ticks": "",
            "zerolinecolor": "white"
           },
           "yaxis": {
            "backgroundcolor": "#E5ECF6",
            "gridcolor": "white",
            "gridwidth": 2,
            "linecolor": "white",
            "showbackground": true,
            "ticks": "",
            "zerolinecolor": "white"
           },
           "zaxis": {
            "backgroundcolor": "#E5ECF6",
            "gridcolor": "white",
            "gridwidth": 2,
            "linecolor": "white",
            "showbackground": true,
            "ticks": "",
            "zerolinecolor": "white"
           }
          },
          "shapedefaults": {
           "line": {
            "color": "#2a3f5f"
           }
          },
          "ternary": {
           "aaxis": {
            "gridcolor": "white",
            "linecolor": "white",
            "ticks": ""
           },
           "baxis": {
            "gridcolor": "white",
            "linecolor": "white",
            "ticks": ""
           },
           "bgcolor": "#E5ECF6",
           "caxis": {
            "gridcolor": "white",
            "linecolor": "white",
            "ticks": ""
           }
          },
          "title": {
           "x": 0.05
          },
          "xaxis": {
           "automargin": true,
           "gridcolor": "white",
           "linecolor": "white",
           "ticks": "",
           "title": {
            "standoff": 15
           },
           "zerolinecolor": "white",
           "zerolinewidth": 2
          },
          "yaxis": {
           "automargin": true,
           "gridcolor": "white",
           "linecolor": "white",
           "ticks": "",
           "title": {
            "standoff": 15
           },
           "zerolinecolor": "white",
           "zerolinewidth": 2
          }
         }
        },
        "title": {
         "text": "Top 10 Countries by Litigation Count"
        },
        "xaxis": {
         "anchor": "y",
         "domain": [
          0,
          1
         ],
         "title": {
          "text": "Country of Citizenship"
         }
        },
        "yaxis": {
         "anchor": "x",
         "domain": [
          0,
          1
         ],
         "title": {
          "text": "LIT Litigation Count"
         }
        }
       }
      }
     },
     "metadata": {},
     "output_type": "display_data"
    }
   ],
   "source": [
    "top_countries = lit.groupby(\"Country of Citizenship\")[\"LIT Litigation Count\"].sum().nlargest(10).reset_index()\n",
    "fig = px.bar(top_countries, x=\"Country of Citizenship\", y=\"LIT Litigation Count\",\n",
    "             title=\"Top 10 Countries by Litigation Count\", text_auto=True)\n",
    "fig.show()"
   ]
  },
  {
   "cell_type": "code",
   "execution_count": 6,
   "id": "f142c9f0",
   "metadata": {},
   "outputs": [
    {
     "data": {
      "application/vnd.plotly.v1+json": {
       "config": {
        "plotlyServerURL": "https://plot.ly"
       },
       "data": [
        {
         "hovertemplate": "country=%{x}<br>count=%{y}<extra></extra>",
         "legendgroup": "",
         "marker": {
          "color": "#636efa",
          "pattern": {
           "shape": ""
          }
         },
         "name": "",
         "orientation": "v",
         "showlegend": false,
         "textposition": "auto",
         "texttemplate": "%{y}",
         "type": "bar",
         "x": [
          "Ukraine",
          "Syria",
          "Iran",
          "Bangladesh",
          "China",
          "Eritrea",
          "Ethiopia",
          "Russia",
          "India",
          "Sri Lanka"
         ],
         "xaxis": "x",
         "y": {
          "bdata": "sABlAEYAPgA5ACoAKQAkACAAHgA=",
          "dtype": "i2"
         },
         "yaxis": "y"
        }
       ],
       "layout": {
        "barmode": "relative",
        "legend": {
         "tracegroupgap": 0
        },
        "template": {
         "data": {
          "bar": [
           {
            "error_x": {
             "color": "#2a3f5f"
            },
            "error_y": {
             "color": "#2a3f5f"
            },
            "marker": {
             "line": {
              "color": "#E5ECF6",
              "width": 0.5
             },
             "pattern": {
              "fillmode": "overlay",
              "size": 10,
              "solidity": 0.2
             }
            },
            "type": "bar"
           }
          ],
          "barpolar": [
           {
            "marker": {
             "line": {
              "color": "#E5ECF6",
              "width": 0.5
             },
             "pattern": {
              "fillmode": "overlay",
              "size": 10,
              "solidity": 0.2
             }
            },
            "type": "barpolar"
           }
          ],
          "carpet": [
           {
            "aaxis": {
             "endlinecolor": "#2a3f5f",
             "gridcolor": "white",
             "linecolor": "white",
             "minorgridcolor": "white",
             "startlinecolor": "#2a3f5f"
            },
            "baxis": {
             "endlinecolor": "#2a3f5f",
             "gridcolor": "white",
             "linecolor": "white",
             "minorgridcolor": "white",
             "startlinecolor": "#2a3f5f"
            },
            "type": "carpet"
           }
          ],
          "choropleth": [
           {
            "colorbar": {
             "outlinewidth": 0,
             "ticks": ""
            },
            "type": "choropleth"
           }
          ],
          "contour": [
           {
            "colorbar": {
             "outlinewidth": 0,
             "ticks": ""
            },
            "colorscale": [
             [
              0,
              "#0d0887"
             ],
             [
              0.1111111111111111,
              "#46039f"
             ],
             [
              0.2222222222222222,
              "#7201a8"
             ],
             [
              0.3333333333333333,
              "#9c179e"
             ],
             [
              0.4444444444444444,
              "#bd3786"
             ],
             [
              0.5555555555555556,
              "#d8576b"
             ],
             [
              0.6666666666666666,
              "#ed7953"
             ],
             [
              0.7777777777777778,
              "#fb9f3a"
             ],
             [
              0.8888888888888888,
              "#fdca26"
             ],
             [
              1,
              "#f0f921"
             ]
            ],
            "type": "contour"
           }
          ],
          "contourcarpet": [
           {
            "colorbar": {
             "outlinewidth": 0,
             "ticks": ""
            },
            "type": "contourcarpet"
           }
          ],
          "heatmap": [
           {
            "colorbar": {
             "outlinewidth": 0,
             "ticks": ""
            },
            "colorscale": [
             [
              0,
              "#0d0887"
             ],
             [
              0.1111111111111111,
              "#46039f"
             ],
             [
              0.2222222222222222,
              "#7201a8"
             ],
             [
              0.3333333333333333,
              "#9c179e"
             ],
             [
              0.4444444444444444,
              "#bd3786"
             ],
             [
              0.5555555555555556,
              "#d8576b"
             ],
             [
              0.6666666666666666,
              "#ed7953"
             ],
             [
              0.7777777777777778,
              "#fb9f3a"
             ],
             [
              0.8888888888888888,
              "#fdca26"
             ],
             [
              1,
              "#f0f921"
             ]
            ],
            "type": "heatmap"
           }
          ],
          "histogram": [
           {
            "marker": {
             "pattern": {
              "fillmode": "overlay",
              "size": 10,
              "solidity": 0.2
             }
            },
            "type": "histogram"
           }
          ],
          "histogram2d": [
           {
            "colorbar": {
             "outlinewidth": 0,
             "ticks": ""
            },
            "colorscale": [
             [
              0,
              "#0d0887"
             ],
             [
              0.1111111111111111,
              "#46039f"
             ],
             [
              0.2222222222222222,
              "#7201a8"
             ],
             [
              0.3333333333333333,
              "#9c179e"
             ],
             [
              0.4444444444444444,
              "#bd3786"
             ],
             [
              0.5555555555555556,
              "#d8576b"
             ],
             [
              0.6666666666666666,
              "#ed7953"
             ],
             [
              0.7777777777777778,
              "#fb9f3a"
             ],
             [
              0.8888888888888888,
              "#fdca26"
             ],
             [
              1,
              "#f0f921"
             ]
            ],
            "type": "histogram2d"
           }
          ],
          "histogram2dcontour": [
           {
            "colorbar": {
             "outlinewidth": 0,
             "ticks": ""
            },
            "colorscale": [
             [
              0,
              "#0d0887"
             ],
             [
              0.1111111111111111,
              "#46039f"
             ],
             [
              0.2222222222222222,
              "#7201a8"
             ],
             [
              0.3333333333333333,
              "#9c179e"
             ],
             [
              0.4444444444444444,
              "#bd3786"
             ],
             [
              0.5555555555555556,
              "#d8576b"
             ],
             [
              0.6666666666666666,
              "#ed7953"
             ],
             [
              0.7777777777777778,
              "#fb9f3a"
             ],
             [
              0.8888888888888888,
              "#fdca26"
             ],
             [
              1,
              "#f0f921"
             ]
            ],
            "type": "histogram2dcontour"
           }
          ],
          "mesh3d": [
           {
            "colorbar": {
             "outlinewidth": 0,
             "ticks": ""
            },
            "type": "mesh3d"
           }
          ],
          "parcoords": [
           {
            "line": {
             "colorbar": {
              "outlinewidth": 0,
              "ticks": ""
             }
            },
            "type": "parcoords"
           }
          ],
          "pie": [
           {
            "automargin": true,
            "type": "pie"
           }
          ],
          "scatter": [
           {
            "fillpattern": {
             "fillmode": "overlay",
             "size": 10,
             "solidity": 0.2
            },
            "type": "scatter"
           }
          ],
          "scatter3d": [
           {
            "line": {
             "colorbar": {
              "outlinewidth": 0,
              "ticks": ""
             }
            },
            "marker": {
             "colorbar": {
              "outlinewidth": 0,
              "ticks": ""
             }
            },
            "type": "scatter3d"
           }
          ],
          "scattercarpet": [
           {
            "marker": {
             "colorbar": {
              "outlinewidth": 0,
              "ticks": ""
             }
            },
            "type": "scattercarpet"
           }
          ],
          "scattergeo": [
           {
            "marker": {
             "colorbar": {
              "outlinewidth": 0,
              "ticks": ""
             }
            },
            "type": "scattergeo"
           }
          ],
          "scattergl": [
           {
            "marker": {
             "colorbar": {
              "outlinewidth": 0,
              "ticks": ""
             }
            },
            "type": "scattergl"
           }
          ],
          "scattermap": [
           {
            "marker": {
             "colorbar": {
              "outlinewidth": 0,
              "ticks": ""
             }
            },
            "type": "scattermap"
           }
          ],
          "scattermapbox": [
           {
            "marker": {
             "colorbar": {
              "outlinewidth": 0,
              "ticks": ""
             }
            },
            "type": "scattermapbox"
           }
          ],
          "scatterpolar": [
           {
            "marker": {
             "colorbar": {
              "outlinewidth": 0,
              "ticks": ""
             }
            },
            "type": "scatterpolar"
           }
          ],
          "scatterpolargl": [
           {
            "marker": {
             "colorbar": {
              "outlinewidth": 0,
              "ticks": ""
             }
            },
            "type": "scatterpolargl"
           }
          ],
          "scatterternary": [
           {
            "marker": {
             "colorbar": {
              "outlinewidth": 0,
              "ticks": ""
             }
            },
            "type": "scatterternary"
           }
          ],
          "surface": [
           {
            "colorbar": {
             "outlinewidth": 0,
             "ticks": ""
            },
            "colorscale": [
             [
              0,
              "#0d0887"
             ],
             [
              0.1111111111111111,
              "#46039f"
             ],
             [
              0.2222222222222222,
              "#7201a8"
             ],
             [
              0.3333333333333333,
              "#9c179e"
             ],
             [
              0.4444444444444444,
              "#bd3786"
             ],
             [
              0.5555555555555556,
              "#d8576b"
             ],
             [
              0.6666666666666666,
              "#ed7953"
             ],
             [
              0.7777777777777778,
              "#fb9f3a"
             ],
             [
              0.8888888888888888,
              "#fdca26"
             ],
             [
              1,
              "#f0f921"
             ]
            ],
            "type": "surface"
           }
          ],
          "table": [
           {
            "cells": {
             "fill": {
              "color": "#EBF0F8"
             },
             "line": {
              "color": "white"
             }
            },
            "header": {
             "fill": {
              "color": "#C8D4E3"
             },
             "line": {
              "color": "white"
             }
            },
            "type": "table"
           }
          ]
         },
         "layout": {
          "annotationdefaults": {
           "arrowcolor": "#2a3f5f",
           "arrowhead": 0,
           "arrowwidth": 1
          },
          "autotypenumbers": "strict",
          "coloraxis": {
           "colorbar": {
            "outlinewidth": 0,
            "ticks": ""
           }
          },
          "colorscale": {
           "diverging": [
            [
             0,
             "#8e0152"
            ],
            [
             0.1,
             "#c51b7d"
            ],
            [
             0.2,
             "#de77ae"
            ],
            [
             0.3,
             "#f1b6da"
            ],
            [
             0.4,
             "#fde0ef"
            ],
            [
             0.5,
             "#f7f7f7"
            ],
            [
             0.6,
             "#e6f5d0"
            ],
            [
             0.7,
             "#b8e186"
            ],
            [
             0.8,
             "#7fbc41"
            ],
            [
             0.9,
             "#4d9221"
            ],
            [
             1,
             "#276419"
            ]
           ],
           "sequential": [
            [
             0,
             "#0d0887"
            ],
            [
             0.1111111111111111,
             "#46039f"
            ],
            [
             0.2222222222222222,
             "#7201a8"
            ],
            [
             0.3333333333333333,
             "#9c179e"
            ],
            [
             0.4444444444444444,
             "#bd3786"
            ],
            [
             0.5555555555555556,
             "#d8576b"
            ],
            [
             0.6666666666666666,
             "#ed7953"
            ],
            [
             0.7777777777777778,
             "#fb9f3a"
            ],
            [
             0.8888888888888888,
             "#fdca26"
            ],
            [
             1,
             "#f0f921"
            ]
           ],
           "sequentialminus": [
            [
             0,
             "#0d0887"
            ],
            [
             0.1111111111111111,
             "#46039f"
            ],
            [
             0.2222222222222222,
             "#7201a8"
            ],
            [
             0.3333333333333333,
             "#9c179e"
            ],
            [
             0.4444444444444444,
             "#bd3786"
            ],
            [
             0.5555555555555556,
             "#d8576b"
            ],
            [
             0.6666666666666666,
             "#ed7953"
            ],
            [
             0.7777777777777778,
             "#fb9f3a"
            ],
            [
             0.8888888888888888,
             "#fdca26"
            ],
            [
             1,
             "#f0f921"
            ]
           ]
          },
          "colorway": [
           "#636efa",
           "#EF553B",
           "#00cc96",
           "#ab63fa",
           "#FFA15A",
           "#19d3f3",
           "#FF6692",
           "#B6E880",
           "#FF97FF",
           "#FECB52"
          ],
          "font": {
           "color": "#2a3f5f"
          },
          "geo": {
           "bgcolor": "white",
           "lakecolor": "white",
           "landcolor": "#E5ECF6",
           "showlakes": true,
           "showland": true,
           "subunitcolor": "white"
          },
          "hoverlabel": {
           "align": "left"
          },
          "hovermode": "closest",
          "mapbox": {
           "style": "light"
          },
          "paper_bgcolor": "white",
          "plot_bgcolor": "#E5ECF6",
          "polar": {
           "angularaxis": {
            "gridcolor": "white",
            "linecolor": "white",
            "ticks": ""
           },
           "bgcolor": "#E5ECF6",
           "radialaxis": {
            "gridcolor": "white",
            "linecolor": "white",
            "ticks": ""
           }
          },
          "scene": {
           "xaxis": {
            "backgroundcolor": "#E5ECF6",
            "gridcolor": "white",
            "gridwidth": 2,
            "linecolor": "white",
            "showbackground": true,
            "ticks": "",
            "zerolinecolor": "white"
           },
           "yaxis": {
            "backgroundcolor": "#E5ECF6",
            "gridcolor": "white",
            "gridwidth": 2,
            "linecolor": "white",
            "showbackground": true,
            "ticks": "",
            "zerolinecolor": "white"
           },
           "zaxis": {
            "backgroundcolor": "#E5ECF6",
            "gridcolor": "white",
            "gridwidth": 2,
            "linecolor": "white",
            "showbackground": true,
            "ticks": "",
            "zerolinecolor": "white"
           }
          },
          "shapedefaults": {
           "line": {
            "color": "#2a3f5f"
           }
          },
          "ternary": {
           "aaxis": {
            "gridcolor": "white",
            "linecolor": "white",
            "ticks": ""
           },
           "baxis": {
            "gridcolor": "white",
            "linecolor": "white",
            "ticks": ""
           },
           "bgcolor": "#E5ECF6",
           "caxis": {
            "gridcolor": "white",
            "linecolor": "white",
            "ticks": ""
           }
          },
          "title": {
           "x": 0.05
          },
          "xaxis": {
           "automargin": true,
           "gridcolor": "white",
           "linecolor": "white",
           "ticks": "",
           "title": {
            "standoff": 15
           },
           "zerolinecolor": "white",
           "zerolinewidth": 2
          },
          "yaxis": {
           "automargin": true,
           "gridcolor": "white",
           "linecolor": "white",
           "ticks": "",
           "title": {
            "standoff": 15
           },
           "zerolinecolor": "white",
           "zerolinewidth": 2
          }
         }
        },
        "title": {
         "text": "Top 10 Countries by Total Refusals"
        },
        "xaxis": {
         "anchor": "y",
         "domain": [
          0,
          1
         ],
         "title": {
          "text": "country"
         }
        },
        "yaxis": {
         "anchor": "x",
         "domain": [
          0,
          1
         ],
         "title": {
          "text": "count"
         }
        }
       }
      }
     },
     "metadata": {},
     "output_type": "display_data"
    }
   ],
   "source": [
    "country_counts = ref.groupby(\"country\")[\"count\"].sum().nlargest(10).reset_index()\n",
    "fig = px.bar(country_counts, x=\"country\", y=\"count\", title=\"Top 10 Countries by Total Refusals\", text_auto=True)\n",
    "fig.show()"
   ]
  },
  {
   "cell_type": "markdown",
   "id": "219facdd",
   "metadata": {},
   "source": [
    "## 4. Litigation Trends Over Time for Top 4 Countries\n",
    "Looking at the top 4 countries by litigation count — Nigeria, India, Iran, and China — we broke down litigation applications by case type over time (2018–2023). Here’s what we found:\n",
    "\n",
    "- Iran barely had any litigation before 2020, but applications picked up in 2021. Around 90% of them are Visa Officer Refusals.\n",
    "\n",
    "- Nigeria had a very different pattern, about 80% of its cases are RAD decisions, with the number peaking in 2021 and then going down.\n",
    "\n",
    "- India and China have a similar RAD case distribution, but China had a spike in Mandamus applications in 2023.\n",
    "\n",
    "- India shows a steady increase in both Visa Officer Refusals and RAD decisions over the years."
   ]
  },
  {
   "cell_type": "code",
   "execution_count": 16,
   "id": "1b9d0b1c",
   "metadata": {},
   "outputs": [
    {
     "data": {
      "application/vnd.plotly.v1+json": {
       "config": {
        "plotlyServerURL": "https://plot.ly"
       },
       "data": [
        {
         "marker": {
          "color": "rgb(102, 197, 204)"
         },
         "name": "RAD Decisions",
         "orientation": "h",
         "showlegend": true,
         "text": [
          "43.31%"
         ],
         "textfont": {
          "color": "black"
         },
         "textposition": "outside",
         "type": "bar",
         "x": [
          43.31
         ],
         "xaxis": "x",
         "y": [
          "Total"
         ],
         "yaxis": "y"
        },
        {
         "marker": {
          "color": "rgb(246, 207, 113)"
         },
         "name": "Visa Officer Refusal",
         "orientation": "h",
         "showlegend": true,
         "text": [
          "36.14%"
         ],
         "textfont": {
          "color": "black"
         },
         "textposition": "outside",
         "type": "bar",
         "x": [
          36.14
         ],
         "xaxis": "x",
         "y": [
          "Total"
         ],
         "yaxis": "y"
        },
        {
         "marker": {
          "color": "rgb(248, 156, 116)"
         },
         "name": "Mandamus",
         "orientation": "h",
         "showlegend": true,
         "text": [
          "20.55%"
         ],
         "textfont": {
          "color": "black"
         },
         "textposition": "outside",
         "type": "bar",
         "x": [
          20.55
         ],
         "xaxis": "x",
         "y": [
          "Total"
         ],
         "yaxis": "y"
        },
        {
         "marker": {
          "color": "rgb(102, 197, 204)"
         },
         "name": "RAD Decisions",
         "orientation": "h",
         "showlegend": false,
         "text": {
          "bdata": "AAAAAADgYUAAAAAAAOBiQAAAAAAAwFBAAAAAAAAQcUAAAAAAAABqQAAAAAAAAFBA",
          "dtype": "f8"
         },
         "textfont": {
          "color": "black"
         },
         "textposition": "outside",
         "type": "bar",
         "x": {
          "bdata": "jwCXAEMAEQHQAEAA",
          "dtype": "i2"
         },
         "xaxis": "x5",
         "y": [
          "2018",
          "2019",
          "2020",
          "2021",
          "2022",
          "2023"
         ],
         "yaxis": "y5"
        },
        {
         "marker": {
          "color": "rgb(246, 207, 113)"
         },
         "name": "Visa Officer Refusal",
         "orientation": "h",
         "showlegend": false,
         "text": {
          "bdata": "AAAAAABAYUAAAAAAAKBoQAAAAAAAAFJAAAAAAABAUEAAAAAAAABbQAAAAAAAAGZA",
          "dtype": "f8"
         },
         "textfont": {
          "color": "black"
         },
         "textposition": "outside",
         "type": "bar",
         "x": {
          "bdata": "igDFAEgAQQBsALAA",
          "dtype": "i2"
         },
         "xaxis": "x5",
         "y": [
          "2018",
          "2019",
          "2020",
          "2021",
          "2022",
          "2023"
         ],
         "yaxis": "y5"
        },
        {
         "marker": {
          "color": "rgb(248, 156, 116)"
         },
         "name": "Mandamus",
         "orientation": "h",
         "showlegend": false,
         "text": {
          "bdata": "AAAAAAAAJEAAAAAAAAA1QAAAAAAAABxAAAAAAAAAM0AAAAAAAABKQAAAAAAAEHRA",
          "dtype": "f8"
         },
         "textfont": {
          "color": "black"
         },
         "textposition": "outside",
         "type": "bar",
         "x": {
          "bdata": "CgAVAAcAEwA0AEEB",
          "dtype": "i2"
         },
         "xaxis": "x5",
         "y": [
          "2018",
          "2019",
          "2020",
          "2021",
          "2022",
          "2023"
         ],
         "yaxis": "y5"
        },
        {
         "marker": {
          "color": "rgb(102, 197, 204)"
         },
         "name": "RAD Decisions",
         "orientation": "h",
         "showlegend": false,
         "text": [
          "41.14%"
         ],
         "textfont": {
          "color": "black"
         },
         "textposition": "outside",
         "type": "bar",
         "x": [
          41.14
         ],
         "xaxis": "x2",
         "y": [
          "Total"
         ],
         "yaxis": "y2"
        },
        {
         "marker": {
          "color": "rgb(246, 207, 113)"
         },
         "name": "Visa Officer Refusal",
         "orientation": "h",
         "showlegend": false,
         "text": [
          "52.88%"
         ],
         "textfont": {
          "color": "black"
         },
         "textposition": "outside",
         "type": "bar",
         "x": [
          52.88
         ],
         "xaxis": "x2",
         "y": [
          "Total"
         ],
         "yaxis": "y2"
        },
        {
         "marker": {
          "color": "rgb(248, 156, 116)"
         },
         "name": "Mandamus",
         "orientation": "h",
         "showlegend": false,
         "text": [
          "5.98%"
         ],
         "textfont": {
          "color": "black"
         },
         "textposition": "outside",
         "type": "bar",
         "x": [
          5.98
         ],
         "xaxis": "x2",
         "y": [
          "Total"
         ],
         "yaxis": "y2"
        },
        {
         "marker": {
          "color": "rgb(102, 197, 204)"
         },
         "name": "RAD Decisions",
         "orientation": "h",
         "showlegend": false,
         "text": {
          "bdata": "AAAAAACARUAAAAAAAGBkQAAAAAAAgGJAAAAAAADAekAAAAAAAACCQAAAAAAAoItA",
          "dtype": "f8"
         },
         "textfont": {
          "color": "black"
         },
         "textposition": "outside",
         "type": "bar",
         "x": {
          "bdata": "KwCjAJQArAFAAnQD",
          "dtype": "i2"
         },
         "xaxis": "x6",
         "y": [
          "2018",
          "2019",
          "2020",
          "2021",
          "2022",
          "2023"
         ],
         "yaxis": "y6"
        },
        {
         "marker": {
          "color": "rgb(246, 207, 113)"
         },
         "name": "Visa Officer Refusal",
         "orientation": "h",
         "showlegend": false,
         "text": {
          "bdata": "AAAAAACgaUAAAAAAAOB6QAAAAAAAAHZAAAAAAABQdUAAAAAAAICEQAAAAAAAEIxA",
          "dtype": "f8"
         },
         "textfont": {
          "color": "black"
         },
         "textposition": "outside",
         "type": "bar",
         "x": {
          "bdata": "zQCuAWABVQGQAoID",
          "dtype": "i2"
         },
         "xaxis": "x6",
         "y": [
          "2018",
          "2019",
          "2020",
          "2021",
          "2022",
          "2023"
         ],
         "yaxis": "y6"
        },
        {
         "marker": {
          "color": "rgb(248, 156, 116)"
         },
         "name": "Mandamus",
         "orientation": "h",
         "showlegend": false,
         "text": {
          "bdata": "AAAAAAAAHEAAAAAAAAAcQAAAAAAAABRAAAAAAACAR0AAAAAAAEBmQAAAAAAAgFRA",
          "dtype": "f8"
         },
         "textfont": {
          "color": "black"
         },
         "textposition": "outside",
         "type": "bar",
         "x": {
          "bdata": "BwAHAAUALwCyAFIA",
          "dtype": "i2"
         },
         "xaxis": "x6",
         "y": [
          "2018",
          "2019",
          "2020",
          "2021",
          "2022",
          "2023"
         ],
         "yaxis": "y6"
        },
        {
         "marker": {
          "color": "rgb(102, 197, 204)"
         },
         "name": "RAD Decisions",
         "orientation": "h",
         "showlegend": false,
         "text": [
          "2.85%"
         ],
         "textfont": {
          "color": "black"
         },
         "textposition": "outside",
         "type": "bar",
         "x": [
          2.85
         ],
         "xaxis": "x3",
         "y": [
          "Total"
         ],
         "yaxis": "y3"
        },
        {
         "marker": {
          "color": "rgb(246, 207, 113)"
         },
         "name": "Visa Officer Refusal",
         "orientation": "h",
         "showlegend": false,
         "text": [
          "91.19%"
         ],
         "textfont": {
          "color": "black"
         },
         "textposition": "outside",
         "type": "bar",
         "x": [
          91.19
         ],
         "xaxis": "x3",
         "y": [
          "Total"
         ],
         "yaxis": "y3"
        },
        {
         "marker": {
          "color": "rgb(248, 156, 116)"
         },
         "name": "Mandamus",
         "orientation": "h",
         "showlegend": false,
         "text": [
          "5.96%"
         ],
         "textfont": {
          "color": "black"
         },
         "textposition": "outside",
         "type": "bar",
         "x": [
          5.96
         ],
         "xaxis": "x3",
         "y": [
          "Total"
         ],
         "yaxis": "y3"
        },
        {
         "marker": {
          "color": "rgb(102, 197, 204)"
         },
         "name": "RAD Decisions",
         "orientation": "h",
         "showlegend": false,
         "text": {
          "bdata": "AAAAAAAAGEAAAAAAAAAiQAAAAAAAACpAAAAAAACASkAAAAAAAABBQAAAAAAAABRA",
          "dtype": "f8"
         },
         "textfont": {
          "color": "black"
         },
         "textposition": "outside",
         "type": "bar",
         "x": {
          "bdata": "BgkNNSIF",
          "dtype": "i1"
         },
         "xaxis": "x7",
         "y": [
          "2018",
          "2019",
          "2020",
          "2021",
          "2022",
          "2023"
         ],
         "yaxis": "y7"
        },
        {
         "marker": {
          "color": "rgb(246, 207, 113)"
         },
         "name": "Visa Officer Refusal",
         "orientation": "h",
         "showlegend": false,
         "text": {
          "bdata": "AAAAAACAQ0AAAAAAAIBaQAAAAAAAwF1AAAAAAABggEAAAAAAAECSQAAAAAAAdJ1A",
          "dtype": "f8"
         },
         "textfont": {
          "color": "black"
         },
         "textposition": "outside",
         "type": "bar",
         "x": {
          "bdata": "JwBqAHcADAKQBF0H",
          "dtype": "i2"
         },
         "xaxis": "x7",
         "y": [
          "2018",
          "2019",
          "2020",
          "2021",
          "2022",
          "2023"
         ],
         "yaxis": "y7"
        },
        {
         "marker": {
          "color": "rgb(248, 156, 116)"
         },
         "name": "Mandamus",
         "orientation": "h",
         "showlegend": false,
         "text": {
          "bdata": "AAAAAAAAPEAAAAAAAAAyQAAAAAAAAAhAAAAAAAAAFEAAAAAAAIBNQAAAAAAAQGFA",
          "dtype": "f8"
         },
         "textfont": {
          "color": "black"
         },
         "textposition": "outside",
         "type": "bar",
         "x": {
          "bdata": "HAASAAMABQA7AIoA",
          "dtype": "i2"
         },
         "xaxis": "x7",
         "y": [
          "2018",
          "2019",
          "2020",
          "2021",
          "2022",
          "2023"
         ],
         "yaxis": "y7"
        },
        {
         "marker": {
          "color": "rgb(102, 197, 204)"
         },
         "name": "RAD Decisions",
         "orientation": "h",
         "showlegend": false,
         "text": [
          "78.13%"
         ],
         "textfont": {
          "color": "black"
         },
         "textposition": "outside",
         "type": "bar",
         "x": [
          78.13
         ],
         "xaxis": "x4",
         "y": [
          "Total"
         ],
         "yaxis": "y4"
        },
        {
         "marker": {
          "color": "rgb(246, 207, 113)"
         },
         "name": "Visa Officer Refusal",
         "orientation": "h",
         "showlegend": false,
         "text": [
          "19.73%"
         ],
         "textfont": {
          "color": "black"
         },
         "textposition": "outside",
         "type": "bar",
         "x": [
          19.73
         ],
         "xaxis": "x4",
         "y": [
          "Total"
         ],
         "yaxis": "y4"
        },
        {
         "marker": {
          "color": "rgb(248, 156, 116)"
         },
         "name": "Mandamus",
         "orientation": "h",
         "showlegend": false,
         "text": [
          "2.13%"
         ],
         "textfont": {
          "color": "black"
         },
         "textposition": "outside",
         "type": "bar",
         "x": [
          2.13
         ],
         "xaxis": "x4",
         "y": [
          "Total"
         ],
         "yaxis": "y4"
        },
        {
         "marker": {
          "color": "rgb(102, 197, 204)"
         },
         "name": "RAD Decisions",
         "orientation": "h",
         "showlegend": false,
         "text": {
          "bdata": "AAAAAACQekAAAAAAACCEQAAAAAAA5JBAAAAAAADwmEAAAAAAAACGQAAAAAAAQGlA",
          "dtype": "f8"
         },
         "textfont": {
          "color": "black"
         },
         "textposition": "outside",
         "type": "bar",
         "x": {
          "bdata": "qQGEAjkEPAbAAsoA",
          "dtype": "i2"
         },
         "xaxis": "x8",
         "y": [
          "2018",
          "2019",
          "2020",
          "2021",
          "2022",
          "2023"
         ],
         "yaxis": "y8"
        },
        {
         "marker": {
          "color": "rgb(246, 207, 113)"
         },
         "name": "Visa Officer Refusal",
         "orientation": "h",
         "showlegend": false,
         "text": {
          "bdata": "AAAAAAAAX0AAAAAAAABkQAAAAAAAYGlAAAAAAADgaEAAAAAAAMBrQAAAAAAAsHBA",
          "dtype": "f8"
         },
         "textfont": {
          "color": "black"
         },
         "textposition": "outside",
         "type": "bar",
         "x": {
          "bdata": "fACgAMsAxwDeAAsB",
          "dtype": "i2"
         },
         "xaxis": "x8",
         "y": [
          "2018",
          "2019",
          "2020",
          "2021",
          "2022",
          "2023"
         ],
         "yaxis": "y8"
        },
        {
         "marker": {
          "color": "rgb(248, 156, 116)"
         },
         "name": "Mandamus",
         "orientation": "h",
         "showlegend": false,
         "text": {
          "bdata": "AAAAAAAAIEAAAAAAAAAsQAAAAAAAAABAAAAAAAAANEAAAAAAAIBKQAAAAAAAAD5A",
          "dtype": "f8"
         },
         "textfont": {
          "color": "black"
         },
         "textposition": "outside",
         "type": "bar",
         "x": {
          "bdata": "CA4CFDUe",
          "dtype": "i1"
         },
         "xaxis": "x8",
         "y": [
          "2018",
          "2019",
          "2020",
          "2021",
          "2022",
          "2023"
         ],
         "yaxis": "y8"
        }
       ],
       "layout": {
        "annotations": [
         {
          "font": {
           "size": 16
          },
          "showarrow": false,
          "text": "China",
          "x": 0.11375,
          "xanchor": "center",
          "xref": "paper",
          "y": 1,
          "yanchor": "bottom",
          "yref": "paper"
         },
         {
          "font": {
           "size": 16
          },
          "showarrow": false,
          "text": "India",
          "x": 0.37124999999999997,
          "xanchor": "center",
          "xref": "paper",
          "y": 1,
          "yanchor": "bottom",
          "yref": "paper"
         },
         {
          "font": {
           "size": 16
          },
          "showarrow": false,
          "text": "Iran",
          "x": 0.62875,
          "xanchor": "center",
          "xref": "paper",
          "y": 1,
          "yanchor": "bottom",
          "yref": "paper"
         },
         {
          "font": {
           "size": 16
          },
          "showarrow": false,
          "text": "Nigeria",
          "x": 0.88625,
          "xanchor": "center",
          "xref": "paper",
          "y": 1,
          "yanchor": "bottom",
          "yref": "paper"
         }
        ],
        "barmode": "stack",
        "font": {
         "size": 20
        },
        "height": 900,
        "legend": {
         "font": {
          "size": 20
         },
         "orientation": "h",
         "title": {
          "text": "Case Types"
         },
         "x": 0.5,
         "xanchor": "center",
         "y": -0.1,
         "yanchor": "bottom"
        },
        "plot_bgcolor": "white",
        "template": {
         "data": {
          "bar": [
           {
            "error_x": {
             "color": "#2a3f5f"
            },
            "error_y": {
             "color": "#2a3f5f"
            },
            "marker": {
             "line": {
              "color": "#E5ECF6",
              "width": 0.5
             },
             "pattern": {
              "fillmode": "overlay",
              "size": 10,
              "solidity": 0.2
             }
            },
            "type": "bar"
           }
          ],
          "barpolar": [
           {
            "marker": {
             "line": {
              "color": "#E5ECF6",
              "width": 0.5
             },
             "pattern": {
              "fillmode": "overlay",
              "size": 10,
              "solidity": 0.2
             }
            },
            "type": "barpolar"
           }
          ],
          "carpet": [
           {
            "aaxis": {
             "endlinecolor": "#2a3f5f",
             "gridcolor": "white",
             "linecolor": "white",
             "minorgridcolor": "white",
             "startlinecolor": "#2a3f5f"
            },
            "baxis": {
             "endlinecolor": "#2a3f5f",
             "gridcolor": "white",
             "linecolor": "white",
             "minorgridcolor": "white",
             "startlinecolor": "#2a3f5f"
            },
            "type": "carpet"
           }
          ],
          "choropleth": [
           {
            "colorbar": {
             "outlinewidth": 0,
             "ticks": ""
            },
            "type": "choropleth"
           }
          ],
          "contour": [
           {
            "colorbar": {
             "outlinewidth": 0,
             "ticks": ""
            },
            "colorscale": [
             [
              0,
              "#0d0887"
             ],
             [
              0.1111111111111111,
              "#46039f"
             ],
             [
              0.2222222222222222,
              "#7201a8"
             ],
             [
              0.3333333333333333,
              "#9c179e"
             ],
             [
              0.4444444444444444,
              "#bd3786"
             ],
             [
              0.5555555555555556,
              "#d8576b"
             ],
             [
              0.6666666666666666,
              "#ed7953"
             ],
             [
              0.7777777777777778,
              "#fb9f3a"
             ],
             [
              0.8888888888888888,
              "#fdca26"
             ],
             [
              1,
              "#f0f921"
             ]
            ],
            "type": "contour"
           }
          ],
          "contourcarpet": [
           {
            "colorbar": {
             "outlinewidth": 0,
             "ticks": ""
            },
            "type": "contourcarpet"
           }
          ],
          "heatmap": [
           {
            "colorbar": {
             "outlinewidth": 0,
             "ticks": ""
            },
            "colorscale": [
             [
              0,
              "#0d0887"
             ],
             [
              0.1111111111111111,
              "#46039f"
             ],
             [
              0.2222222222222222,
              "#7201a8"
             ],
             [
              0.3333333333333333,
              "#9c179e"
             ],
             [
              0.4444444444444444,
              "#bd3786"
             ],
             [
              0.5555555555555556,
              "#d8576b"
             ],
             [
              0.6666666666666666,
              "#ed7953"
             ],
             [
              0.7777777777777778,
              "#fb9f3a"
             ],
             [
              0.8888888888888888,
              "#fdca26"
             ],
             [
              1,
              "#f0f921"
             ]
            ],
            "type": "heatmap"
           }
          ],
          "histogram": [
           {
            "marker": {
             "pattern": {
              "fillmode": "overlay",
              "size": 10,
              "solidity": 0.2
             }
            },
            "type": "histogram"
           }
          ],
          "histogram2d": [
           {
            "colorbar": {
             "outlinewidth": 0,
             "ticks": ""
            },
            "colorscale": [
             [
              0,
              "#0d0887"
             ],
             [
              0.1111111111111111,
              "#46039f"
             ],
             [
              0.2222222222222222,
              "#7201a8"
             ],
             [
              0.3333333333333333,
              "#9c179e"
             ],
             [
              0.4444444444444444,
              "#bd3786"
             ],
             [
              0.5555555555555556,
              "#d8576b"
             ],
             [
              0.6666666666666666,
              "#ed7953"
             ],
             [
              0.7777777777777778,
              "#fb9f3a"
             ],
             [
              0.8888888888888888,
              "#fdca26"
             ],
             [
              1,
              "#f0f921"
             ]
            ],
            "type": "histogram2d"
           }
          ],
          "histogram2dcontour": [
           {
            "colorbar": {
             "outlinewidth": 0,
             "ticks": ""
            },
            "colorscale": [
             [
              0,
              "#0d0887"
             ],
             [
              0.1111111111111111,
              "#46039f"
             ],
             [
              0.2222222222222222,
              "#7201a8"
             ],
             [
              0.3333333333333333,
              "#9c179e"
             ],
             [
              0.4444444444444444,
              "#bd3786"
             ],
             [
              0.5555555555555556,
              "#d8576b"
             ],
             [
              0.6666666666666666,
              "#ed7953"
             ],
             [
              0.7777777777777778,
              "#fb9f3a"
             ],
             [
              0.8888888888888888,
              "#fdca26"
             ],
             [
              1,
              "#f0f921"
             ]
            ],
            "type": "histogram2dcontour"
           }
          ],
          "mesh3d": [
           {
            "colorbar": {
             "outlinewidth": 0,
             "ticks": ""
            },
            "type": "mesh3d"
           }
          ],
          "parcoords": [
           {
            "line": {
             "colorbar": {
              "outlinewidth": 0,
              "ticks": ""
             }
            },
            "type": "parcoords"
           }
          ],
          "pie": [
           {
            "automargin": true,
            "type": "pie"
           }
          ],
          "scatter": [
           {
            "fillpattern": {
             "fillmode": "overlay",
             "size": 10,
             "solidity": 0.2
            },
            "type": "scatter"
           }
          ],
          "scatter3d": [
           {
            "line": {
             "colorbar": {
              "outlinewidth": 0,
              "ticks": ""
             }
            },
            "marker": {
             "colorbar": {
              "outlinewidth": 0,
              "ticks": ""
             }
            },
            "type": "scatter3d"
           }
          ],
          "scattercarpet": [
           {
            "marker": {
             "colorbar": {
              "outlinewidth": 0,
              "ticks": ""
             }
            },
            "type": "scattercarpet"
           }
          ],
          "scattergeo": [
           {
            "marker": {
             "colorbar": {
              "outlinewidth": 0,
              "ticks": ""
             }
            },
            "type": "scattergeo"
           }
          ],
          "scattergl": [
           {
            "marker": {
             "colorbar": {
              "outlinewidth": 0,
              "ticks": ""
             }
            },
            "type": "scattergl"
           }
          ],
          "scattermap": [
           {
            "marker": {
             "colorbar": {
              "outlinewidth": 0,
              "ticks": ""
             }
            },
            "type": "scattermap"
           }
          ],
          "scattermapbox": [
           {
            "marker": {
             "colorbar": {
              "outlinewidth": 0,
              "ticks": ""
             }
            },
            "type": "scattermapbox"
           }
          ],
          "scatterpolar": [
           {
            "marker": {
             "colorbar": {
              "outlinewidth": 0,
              "ticks": ""
             }
            },
            "type": "scatterpolar"
           }
          ],
          "scatterpolargl": [
           {
            "marker": {
             "colorbar": {
              "outlinewidth": 0,
              "ticks": ""
             }
            },
            "type": "scatterpolargl"
           }
          ],
          "scatterternary": [
           {
            "marker": {
             "colorbar": {
              "outlinewidth": 0,
              "ticks": ""
             }
            },
            "type": "scatterternary"
           }
          ],
          "surface": [
           {
            "colorbar": {
             "outlinewidth": 0,
             "ticks": ""
            },
            "colorscale": [
             [
              0,
              "#0d0887"
             ],
             [
              0.1111111111111111,
              "#46039f"
             ],
             [
              0.2222222222222222,
              "#7201a8"
             ],
             [
              0.3333333333333333,
              "#9c179e"
             ],
             [
              0.4444444444444444,
              "#bd3786"
             ],
             [
              0.5555555555555556,
              "#d8576b"
             ],
             [
              0.6666666666666666,
              "#ed7953"
             ],
             [
              0.7777777777777778,
              "#fb9f3a"
             ],
             [
              0.8888888888888888,
              "#fdca26"
             ],
             [
              1,
              "#f0f921"
             ]
            ],
            "type": "surface"
           }
          ],
          "table": [
           {
            "cells": {
             "fill": {
              "color": "#EBF0F8"
             },
             "line": {
              "color": "white"
             }
            },
            "header": {
             "fill": {
              "color": "#C8D4E3"
             },
             "line": {
              "color": "white"
             }
            },
            "type": "table"
           }
          ]
         },
         "layout": {
          "annotationdefaults": {
           "arrowcolor": "#2a3f5f",
           "arrowhead": 0,
           "arrowwidth": 1
          },
          "autotypenumbers": "strict",
          "coloraxis": {
           "colorbar": {
            "outlinewidth": 0,
            "ticks": ""
           }
          },
          "colorscale": {
           "diverging": [
            [
             0,
             "#8e0152"
            ],
            [
             0.1,
             "#c51b7d"
            ],
            [
             0.2,
             "#de77ae"
            ],
            [
             0.3,
             "#f1b6da"
            ],
            [
             0.4,
             "#fde0ef"
            ],
            [
             0.5,
             "#f7f7f7"
            ],
            [
             0.6,
             "#e6f5d0"
            ],
            [
             0.7,
             "#b8e186"
            ],
            [
             0.8,
             "#7fbc41"
            ],
            [
             0.9,
             "#4d9221"
            ],
            [
             1,
             "#276419"
            ]
           ],
           "sequential": [
            [
             0,
             "#0d0887"
            ],
            [
             0.1111111111111111,
             "#46039f"
            ],
            [
             0.2222222222222222,
             "#7201a8"
            ],
            [
             0.3333333333333333,
             "#9c179e"
            ],
            [
             0.4444444444444444,
             "#bd3786"
            ],
            [
             0.5555555555555556,
             "#d8576b"
            ],
            [
             0.6666666666666666,
             "#ed7953"
            ],
            [
             0.7777777777777778,
             "#fb9f3a"
            ],
            [
             0.8888888888888888,
             "#fdca26"
            ],
            [
             1,
             "#f0f921"
            ]
           ],
           "sequentialminus": [
            [
             0,
             "#0d0887"
            ],
            [
             0.1111111111111111,
             "#46039f"
            ],
            [
             0.2222222222222222,
             "#7201a8"
            ],
            [
             0.3333333333333333,
             "#9c179e"
            ],
            [
             0.4444444444444444,
             "#bd3786"
            ],
            [
             0.5555555555555556,
             "#d8576b"
            ],
            [
             0.6666666666666666,
             "#ed7953"
            ],
            [
             0.7777777777777778,
             "#fb9f3a"
            ],
            [
             0.8888888888888888,
             "#fdca26"
            ],
            [
             1,
             "#f0f921"
            ]
           ]
          },
          "colorway": [
           "#636efa",
           "#EF553B",
           "#00cc96",
           "#ab63fa",
           "#FFA15A",
           "#19d3f3",
           "#FF6692",
           "#B6E880",
           "#FF97FF",
           "#FECB52"
          ],
          "font": {
           "color": "#2a3f5f"
          },
          "geo": {
           "bgcolor": "white",
           "lakecolor": "white",
           "landcolor": "#E5ECF6",
           "showlakes": true,
           "showland": true,
           "subunitcolor": "white"
          },
          "hoverlabel": {
           "align": "left"
          },
          "hovermode": "closest",
          "mapbox": {
           "style": "light"
          },
          "paper_bgcolor": "white",
          "plot_bgcolor": "#E5ECF6",
          "polar": {
           "angularaxis": {
            "gridcolor": "white",
            "linecolor": "white",
            "ticks": ""
           },
           "bgcolor": "#E5ECF6",
           "radialaxis": {
            "gridcolor": "white",
            "linecolor": "white",
            "ticks": ""
           }
          },
          "scene": {
           "xaxis": {
            "backgroundcolor": "#E5ECF6",
            "gridcolor": "white",
            "gridwidth": 2,
            "linecolor": "white",
            "showbackground": true,
            "ticks": "",
            "zerolinecolor": "white"
           },
           "yaxis": {
            "backgroundcolor": "#E5ECF6",
            "gridcolor": "white",
            "gridwidth": 2,
            "linecolor": "white",
            "showbackground": true,
            "ticks": "",
            "zerolinecolor": "white"
           },
           "zaxis": {
            "backgroundcolor": "#E5ECF6",
            "gridcolor": "white",
            "gridwidth": 2,
            "linecolor": "white",
            "showbackground": true,
            "ticks": "",
            "zerolinecolor": "white"
           }
          },
          "shapedefaults": {
           "line": {
            "color": "#2a3f5f"
           }
          },
          "ternary": {
           "aaxis": {
            "gridcolor": "white",
            "linecolor": "white",
            "ticks": ""
           },
           "baxis": {
            "gridcolor": "white",
            "linecolor": "white",
            "ticks": ""
           },
           "bgcolor": "#E5ECF6",
           "caxis": {
            "gridcolor": "white",
            "linecolor": "white",
            "ticks": ""
           }
          },
          "title": {
           "x": 0.05
          },
          "xaxis": {
           "automargin": true,
           "gridcolor": "white",
           "linecolor": "white",
           "ticks": "",
           "title": {
            "standoff": 15
           },
           "zerolinecolor": "white",
           "zerolinewidth": 2
          },
          "yaxis": {
           "automargin": true,
           "gridcolor": "white",
           "linecolor": "white",
           "ticks": "",
           "title": {
            "standoff": 15
           },
           "zerolinecolor": "white",
           "zerolinewidth": 2
          }
         }
        },
        "title": {
         "x": 0.5
        },
        "width": 2000,
        "xaxis": {
         "anchor": "y",
         "domain": [
          0,
          0.2275
         ],
         "visible": false
        },
        "xaxis2": {
         "anchor": "y2",
         "domain": [
          0.2575,
          0.485
         ],
         "visible": false
        },
        "xaxis3": {
         "anchor": "y3",
         "domain": [
          0.515,
          0.7425
         ],
         "visible": false
        },
        "xaxis4": {
         "anchor": "y4",
         "domain": [
          0.7725,
          1
         ],
         "visible": false
        },
        "xaxis5": {
         "anchor": "y5",
         "domain": [
          0,
          0.2275
         ],
         "visible": false
        },
        "xaxis6": {
         "anchor": "y6",
         "domain": [
          0.2575,
          0.485
         ],
         "visible": false
        },
        "xaxis7": {
         "anchor": "y7",
         "domain": [
          0.515,
          0.7425
         ],
         "visible": false
        },
        "xaxis8": {
         "anchor": "y8",
         "domain": [
          0.7725,
          1
         ],
         "visible": false
        },
        "yaxis": {
         "anchor": "x",
         "domain": [
          0.8200000000000001,
          1
         ],
         "title": {
          "text": ""
         }
        },
        "yaxis2": {
         "anchor": "x2",
         "domain": [
          0.8200000000000001,
          1
         ],
         "matches": "y",
         "showticklabels": false,
         "title": {
          "text": ""
         }
        },
        "yaxis3": {
         "anchor": "x3",
         "domain": [
          0.8200000000000001,
          1
         ],
         "matches": "y",
         "showticklabels": false,
         "title": {
          "text": ""
         }
        },
        "yaxis4": {
         "anchor": "x4",
         "domain": [
          0.8200000000000001,
          1
         ],
         "matches": "y",
         "showticklabels": false,
         "title": {
          "text": ""
         }
        },
        "yaxis5": {
         "anchor": "x5",
         "autorange": "reversed",
         "domain": [
          0,
          0.7200000000000001
         ]
        },
        "yaxis6": {
         "anchor": "x6",
         "autorange": "reversed",
         "domain": [
          0,
          0.7200000000000001
         ],
         "matches": "y5",
         "showticklabels": false
        },
        "yaxis7": {
         "anchor": "x7",
         "autorange": "reversed",
         "domain": [
          0,
          0.7200000000000001
         ],
         "matches": "y5",
         "showticklabels": false
        },
        "yaxis8": {
         "anchor": "x8",
         "autorange": "reversed",
         "domain": [
          0,
          0.7200000000000001
         ],
         "matches": "y5",
         "showticklabels": false
        }
       }
      }
     },
     "metadata": {},
     "output_type": "display_data"
    }
   ],
   "source": [
    "countries = {\n",
    "    \"People's Republic of China\": \"China\",\n",
    "    \"India\": \"India\",\n",
    "    \"Iran\": \"Iran\",\n",
    "    \"Nigeria\": \"Nigeria\"\n",
    "}\n",
    "valid_case_types = [\"RAD Decisions\", \"Visa Officer Refusal\", \"Mandamus\"]\n",
    "\n",
    "# Use pastel colors\n",
    "color_palette = px.colors.qualitative.Pastel\n",
    "color_map = dict(zip(valid_case_types, color_palette[:len(valid_case_types)]))\n",
    "\n",
    "# Prepare subplot: 2 rows (summary + bar) and N columns (per country)\n",
    "fig = make_subplots(\n",
    "    rows=2, cols=4,\n",
    "    shared_xaxes=False,\n",
    "    shared_yaxes=True,\n",
    "    vertical_spacing=0.1,\n",
    "    horizontal_spacing=0.03,\n",
    "    subplot_titles=list(countries.values()),\n",
    "    row_heights=[0.2, 0.8]\n",
    ")\n",
    "\n",
    "# Loop through each country and populate subplot\n",
    "for col_idx, (country_key, country_name) in enumerate(countries.items(), start=1):\n",
    "    df_country = lit[lit[\"Country of Citizenship\"] == country_key]\n",
    "    df_country = df_country[df_country[\"LIT Case Type Group Desc\"].isin(valid_case_types)]\n",
    "\n",
    "    grouped = df_country.groupby(\n",
    "        [\"LIT Leave Decision Date - Year\", \"LIT Case Type Group Desc\"]\n",
    "    )[\"LIT Litigation Count\"].sum().reset_index()\n",
    "\n",
    "    pivot_df = grouped.pivot(\n",
    "        index=\"LIT Leave Decision Date - Year\",\n",
    "        columns=\"LIT Case Type Group Desc\",\n",
    "        values=\"LIT Litigation Count\"\n",
    "    ).fillna(0).sort_index()\n",
    "\n",
    "    total_counts = pivot_df.sum()\n",
    "    total_percent = (total_counts / total_counts.sum() * 100).round(2)\n",
    "\n",
    "    # --- Row 1: Summary bar ---\n",
    "    for case_type in valid_case_types:\n",
    "        fig.add_trace(go.Bar(\n",
    "            y=[\"Total\"],\n",
    "            x=[total_percent.get(case_type, 0)],\n",
    "            name=case_type,\n",
    "            orientation='h',\n",
    "            text=[f\"{total_percent.get(case_type, 0)}%\"],\n",
    "            textposition='outside',\n",
    "            textfont=dict(color='black'),\n",
    "            marker=dict(color=color_map[case_type]),\n",
    "            showlegend=(col_idx == 1)  # Show legend only in first column\n",
    "        ), row=1, col=col_idx)\n",
    "\n",
    "    # --- Row 2: Per-year stacked bars ---\n",
    "    for case_type in valid_case_types:\n",
    "        fig.add_trace(go.Bar(\n",
    "            y=pivot_df.index.astype(str),\n",
    "            x=pivot_df[case_type],\n",
    "            name=case_type,\n",
    "            orientation='h',\n",
    "            text=pivot_df[case_type],\n",
    "            textposition='outside',\n",
    "            textfont=dict(color='black'),\n",
    "            marker=dict(color=color_map[case_type]),\n",
    "            showlegend=False  # Avoid legend clutter\n",
    "        ), row=2, col=col_idx)\n",
    "\n",
    "    # Hide x-axes\n",
    "    fig.update_xaxes(visible=False, row=1, col=col_idx)\n",
    "    fig.update_xaxes(visible=False, row=2, col=col_idx)\n",
    "\n",
    "    # Reverse y-axis for second row\n",
    "    fig.update_yaxes(autorange='reversed', row=2, col=col_idx)\n",
    "    fig.update_yaxes(title='', row=1, col=col_idx)\n",
    "    if col_idx != 1:\n",
    "        fig.update_yaxes(showticklabels=False, row=2, col=col_idx)  # Only leftmost y-axis visible\n",
    "\n",
    "# Layout adjustments\n",
    "fig.update_layout(\n",
    "    height=900,\n",
    "    width=2000,\n",
    "    barmode='stack',\n",
    "    plot_bgcolor='white',\n",
    "    title_x=0.5,\n",
    "    font=dict(size=20),\n",
    "    legend=dict(\n",
    "        title=\"Case Types\",\n",
    "        orientation=\"h\",\n",
    "        yanchor=\"bottom\",\n",
    "        y=-0.1,\n",
    "        xanchor=\"center\",\n",
    "        x=0.5,\n",
    "        font=dict(size=20)\n",
    "    )\n",
    ")\n",
    "\n",
    "fig.show()"
   ]
  },
  {
   "cell_type": "markdown",
   "id": "2eace20f",
   "metadata": {},
   "source": [
    "## 5. How Do Litigation Outcomes Vary by Country?\n",
    "Here is the overall breakdown across all litigation applications:\n",
    "\n",
    "- Dismissed: 51.48%\n",
    "\n",
    "- Discontinued: 28.87%\n",
    "\n",
    "- Allowed: 19.66%\n",
    "\n",
    "Now comparing specific countries to these averages:\n",
    "\n",
    "- Iran has 20% fewer dismissals than average, but 28% more discontinued cases. Its allowed rate is also 8.7% lower than average.\n",
    "\n",
    "- Nigeria has a 9% higher dismissal rate and 8% fewer discontinued cases. Allowed rate is about the same.\n",
    "\n",
    "- India has a higher discontinued rate (+7%) and lower allowed rate (–8%), but similar dismissal rate.\n",
    "\n",
    "- China is pretty much aligned with the overall averages for all decision types."
   ]
  },
  {
   "cell_type": "code",
   "execution_count": 14,
   "id": "1f42e758",
   "metadata": {},
   "outputs": [
    {
     "name": "stderr",
     "output_type": "stream",
     "text": [
      "/var/folders/f9/98mwc4pn4l51n7xqzs0w7ryh0000gn/T/ipykernel_40455/1553467676.py:28: SettingWithCopyWarning:\n",
      "\n",
      "\n",
      "A value is trying to be set on a copy of a slice from a DataFrame.\n",
      "Try using .loc[row_indexer,col_indexer] = value instead\n",
      "\n",
      "See the caveats in the documentation: https://pandas.pydata.org/pandas-docs/stable/user_guide/indexing.html#returning-a-view-versus-a-copy\n",
      "\n"
     ]
    },
    {
     "data": {
      "text/html": [
       "<div>\n",
       "<style scoped>\n",
       "    .dataframe tbody tr th:only-of-type {\n",
       "        vertical-align: middle;\n",
       "    }\n",
       "\n",
       "    .dataframe tbody tr th {\n",
       "        vertical-align: top;\n",
       "    }\n",
       "\n",
       "    .dataframe thead th {\n",
       "        text-align: right;\n",
       "    }\n",
       "</style>\n",
       "<table border=\"1\" class=\"dataframe\">\n",
       "  <thead>\n",
       "    <tr style=\"text-align: right;\">\n",
       "      <th></th>\n",
       "      <th>LIT Leave Decision Desc</th>\n",
       "      <th>LIT Litigation Count</th>\n",
       "      <th>Percentage</th>\n",
       "    </tr>\n",
       "  </thead>\n",
       "  <tbody>\n",
       "    <tr>\n",
       "      <th>0</th>\n",
       "      <td>Dismissed</td>\n",
       "      <td>24843</td>\n",
       "      <td>51.48</td>\n",
       "    </tr>\n",
       "    <tr>\n",
       "      <th>1</th>\n",
       "      <td>Discontinued</td>\n",
       "      <td>13930</td>\n",
       "      <td>28.87</td>\n",
       "    </tr>\n",
       "    <tr>\n",
       "      <th>2</th>\n",
       "      <td>Allowed</td>\n",
       "      <td>9486</td>\n",
       "      <td>19.66</td>\n",
       "    </tr>\n",
       "  </tbody>\n",
       "</table>\n",
       "</div>"
      ],
      "text/plain": [
       "  LIT Leave Decision Desc  LIT Litigation Count  Percentage\n",
       "0               Dismissed                 24843       51.48\n",
       "1            Discontinued                 13930       28.87\n",
       "2                 Allowed                  9486       19.66"
      ]
     },
     "execution_count": 14,
     "metadata": {},
     "output_type": "execute_result"
    }
   ],
   "source": [
    "decision_desc = lit.groupby(\"LIT Leave Decision Desc\")[\"LIT Litigation Count\"].sum().nlargest(3).reset_index()\n",
    "\n",
    "# Calculate total for annotations\n",
    "total_litigation = decision_desc[\"LIT Litigation Count\"].sum()\n",
    "\n",
    "# Add a percentage column for clarity\n",
    "decision_desc[\"Percentage\"] = (decision_desc[\"LIT Litigation Count\"] / total_litigation * 100).round(2)\n",
    "\n",
    "grouped_df = (\n",
    "    lit.groupby([\"Country of Citizenship\", \"LIT Leave Decision Desc\"])[\"LIT Litigation Count\"]\n",
    "    .sum()\n",
    "    .reset_index()\n",
    ")\n",
    "\n",
    "# Find top 5 countries by total litigation count\n",
    "top_countries = (\n",
    "    grouped_df.groupby(\"Country of Citizenship\")[\"LIT Litigation Count\"]\n",
    "    .sum()\n",
    "    .nlargest(4)\n",
    "    .index\n",
    ")\n",
    "\n",
    "# Filter data for top 5 countries\n",
    "filtered_df = grouped_df[grouped_df[\"Country of Citizenship\"].isin(top_countries)]\n",
    "\n",
    "# Calculate percentage contribution within each country\n",
    "# Calculate percentage contribution within each country\n",
    "filtered_df[\"Percentage\"] = (\n",
    "    filtered_df.groupby(\"Country of Citizenship\")[\"LIT Litigation Count\"]\n",
    "    .transform(lambda x: (x / x.sum() * 100) if x.sum() > 0 else 0)  # Avoid division by zero\n",
    "    .round(2)  # Round to 2 decimal places\n",
    ")\n",
    "\n",
    "\n",
    "# Prepare table data\n",
    "table_data = filtered_df.sort_values(\n",
    "    [\"Country of Citizenship\", \"LIT Litigation Count\"], ascending=[True, False]\n",
    ")\n",
    "dumble_data = table_data[\n",
    "    ~table_data[\"LIT Leave Decision Desc\"].isin(['Not Started at Leave', 'No Leave Required', 'Leave Exception'])\n",
    "]\n",
    "decision_desc"
   ]
  },
  {
   "cell_type": "code",
   "execution_count": null,
   "id": "e2e797a9",
   "metadata": {},
   "outputs": [
    {
     "data": {
      "application/vnd.plotly.v1+json": {
       "config": {
        "plotlyServerURL": "https://plot.ly"
       },
       "data": [
        {
         "line": {
          "color": "gray",
          "width": 2
         },
         "mode": "lines",
         "showlegend": false,
         "type": "scatter",
         "x": [
          0,
          1.3700000000000045
         ],
         "y": [
          "Dismissed",
          "Dismissed"
         ]
        },
        {
         "hovertemplate": "India<br>Decision: Dismissed<br>Difference: 1.37%<extra></extra>",
         "marker": {
          "color": "hsl(0, 70%, 50%)",
          "size": 16,
          "symbol": "circle"
         },
         "mode": "markers",
         "name": "India",
         "showlegend": true,
         "type": "scatter",
         "x": [
          1.3700000000000045
         ],
         "y": [
          "Dismissed"
         ]
        },
        {
         "line": {
          "color": "gray",
          "width": 2
         },
         "mode": "lines",
         "showlegend": false,
         "type": "scatter",
         "x": [
          0,
          -20.299999999999997
         ],
         "y": [
          "Dismissed",
          "Dismissed"
         ]
        },
        {
         "hovertemplate": "Iran<br>Decision: Dismissed<br>Difference: -20.30%<extra></extra>",
         "marker": {
          "color": "hsl(60, 70%, 50%)",
          "size": 16,
          "symbol": "circle"
         },
         "mode": "markers",
         "name": "Iran",
         "showlegend": true,
         "type": "scatter",
         "x": [
          -20.299999999999997
         ],
         "y": [
          "Dismissed"
         ]
        },
        {
         "line": {
          "color": "gray",
          "width": 2
         },
         "mode": "lines",
         "showlegend": false,
         "type": "scatter",
         "x": [
          0,
          8.910000000000004
         ],
         "y": [
          "Dismissed",
          "Dismissed"
         ]
        },
        {
         "hovertemplate": "Nigeria<br>Decision: Dismissed<br>Difference: 8.91%<extra></extra>",
         "marker": {
          "color": "hsl(120, 70%, 50%)",
          "size": 16,
          "symbol": "circle"
         },
         "mode": "markers",
         "name": "Nigeria",
         "showlegend": true,
         "type": "scatter",
         "x": [
          8.910000000000004
         ],
         "y": [
          "Dismissed"
         ]
        },
        {
         "line": {
          "color": "gray",
          "width": 2
         },
         "mode": "lines",
         "showlegend": false,
         "type": "scatter",
         "x": [
          0,
          1.3900000000000006
         ],
         "y": [
          "Dismissed",
          "Dismissed"
         ]
        },
        {
         "hovertemplate": "People's Republic of China<br>Decision: Dismissed<br>Difference: 1.39%<extra></extra>",
         "marker": {
          "color": "hsl(180, 70%, 50%)",
          "size": 16,
          "symbol": "circle"
         },
         "mode": "markers",
         "name": "People's Republic of China",
         "showlegend": true,
         "type": "scatter",
         "x": [
          1.3900000000000006
         ],
         "y": [
          "Dismissed"
         ]
        },
        {
         "line": {
          "color": "gray",
          "width": 2
         },
         "mode": "lines",
         "showlegend": false,
         "type": "scatter",
         "x": [
          0,
          6.900000000000002
         ],
         "y": [
          "Discontinued",
          "Discontinued"
         ]
        },
        {
         "hovertemplate": "India<br>Decision: Discontinued<br>Difference: 6.90%<extra></extra>",
         "marker": {
          "color": "hsl(0, 70%, 50%)",
          "size": 16,
          "symbol": "circle"
         },
         "mode": "markers",
         "name": "India",
         "showlegend": false,
         "type": "scatter",
         "x": [
          6.900000000000002
         ],
         "y": [
          "Discontinued"
         ]
        },
        {
         "line": {
          "color": "gray",
          "width": 2
         },
         "mode": "lines",
         "showlegend": false,
         "type": "scatter",
         "x": [
          0,
          28.94
         ],
         "y": [
          "Discontinued",
          "Discontinued"
         ]
        },
        {
         "hovertemplate": "Iran<br>Decision: Discontinued<br>Difference: 28.94%<extra></extra>",
         "marker": {
          "color": "hsl(60, 70%, 50%)",
          "size": 16,
          "symbol": "circle"
         },
         "mode": "markers",
         "name": "Iran",
         "showlegend": false,
         "type": "scatter",
         "x": [
          28.94
         ],
         "y": [
          "Discontinued"
         ]
        },
        {
         "line": {
          "color": "gray",
          "width": 2
         },
         "mode": "lines",
         "showlegend": false,
         "type": "scatter",
         "x": [
          0,
          -8.46
         ],
         "y": [
          "Discontinued",
          "Discontinued"
         ]
        },
        {
         "hovertemplate": "Nigeria<br>Decision: Discontinued<br>Difference: -8.46%<extra></extra>",
         "marker": {
          "color": "hsl(120, 70%, 50%)",
          "size": 16,
          "symbol": "circle"
         },
         "mode": "markers",
         "name": "Nigeria",
         "showlegend": false,
         "type": "scatter",
         "x": [
          -8.46
         ],
         "y": [
          "Discontinued"
         ]
        },
        {
         "line": {
          "color": "gray",
          "width": 2
         },
         "mode": "lines",
         "showlegend": false,
         "type": "scatter",
         "x": [
          0,
          -1.2600000000000016
         ],
         "y": [
          "Discontinued",
          "Discontinued"
         ]
        },
        {
         "hovertemplate": "People's Republic of China<br>Decision: Discontinued<br>Difference: -1.26%<extra></extra>",
         "marker": {
          "color": "hsl(180, 70%, 50%)",
          "size": 16,
          "symbol": "circle"
         },
         "mode": "markers",
         "name": "People's Republic of China",
         "showlegend": false,
         "type": "scatter",
         "x": [
          -1.2600000000000016
         ],
         "y": [
          "Discontinued"
         ]
        },
        {
         "line": {
          "color": "gray",
          "width": 2
         },
         "mode": "lines",
         "showlegend": false,
         "type": "scatter",
         "x": [
          0,
          -8.38
         ],
         "y": [
          "Allowed",
          "Allowed"
         ]
        },
        {
         "hovertemplate": "India<br>Decision: Allowed<br>Difference: -8.38%<extra></extra>",
         "marker": {
          "color": "hsl(0, 70%, 50%)",
          "size": 16,
          "symbol": "circle"
         },
         "mode": "markers",
         "name": "India",
         "showlegend": false,
         "type": "scatter",
         "x": [
          -8.38
         ],
         "y": [
          "Allowed"
         ]
        },
        {
         "line": {
          "color": "gray",
          "width": 2
         },
         "mode": "lines",
         "showlegend": false,
         "type": "scatter",
         "x": [
          0,
          -8.76
         ],
         "y": [
          "Allowed",
          "Allowed"
         ]
        },
        {
         "hovertemplate": "Iran<br>Decision: Allowed<br>Difference: -8.76%<extra></extra>",
         "marker": {
          "color": "hsl(60, 70%, 50%)",
          "size": 16,
          "symbol": "circle"
         },
         "mode": "markers",
         "name": "Iran",
         "showlegend": false,
         "type": "scatter",
         "x": [
          -8.76
         ],
         "y": [
          "Allowed"
         ]
        },
        {
         "line": {
          "color": "gray",
          "width": 2
         },
         "mode": "lines",
         "showlegend": false,
         "type": "scatter",
         "x": [
          0,
          -0.5100000000000016
         ],
         "y": [
          "Allowed",
          "Allowed"
         ]
        },
        {
         "hovertemplate": "Nigeria<br>Decision: Allowed<br>Difference: -0.51%<extra></extra>",
         "marker": {
          "color": "hsl(120, 70%, 50%)",
          "size": 16,
          "symbol": "circle"
         },
         "mode": "markers",
         "name": "Nigeria",
         "showlegend": false,
         "type": "scatter",
         "x": [
          -0.5100000000000016
         ],
         "y": [
          "Allowed"
         ]
        },
        {
         "line": {
          "color": "gray",
          "width": 2
         },
         "mode": "lines",
         "showlegend": false,
         "type": "scatter",
         "x": [
          0,
          -0.3000000000000007
         ],
         "y": [
          "Allowed",
          "Allowed"
         ]
        },
        {
         "hovertemplate": "People's Republic of China<br>Decision: Allowed<br>Difference: -0.30%<extra></extra>",
         "marker": {
          "color": "hsl(180, 70%, 50%)",
          "size": 16,
          "symbol": "circle"
         },
         "mode": "markers",
         "name": "People's Republic of China",
         "showlegend": false,
         "type": "scatter",
         "x": [
          -0.3000000000000007
         ],
         "y": [
          "Allowed"
         ]
        }
       ],
       "layout": {
        "annotations": [
         {
          "align": "center",
          "bgcolor": "hsl(0, 70%, 50%)",
          "borderpad": 4,
          "font": {
           "color": "white",
           "size": 14
          },
          "showarrow": false,
          "text": "1.37%",
          "x": 1.3700000000000045,
          "y": "Dismissed",
          "yshift": 12
         },
         {
          "align": "center",
          "bgcolor": "hsl(60, 70%, 50%)",
          "borderpad": 4,
          "font": {
           "color": "white",
           "size": 14
          },
          "showarrow": false,
          "text": "-20.30%",
          "x": -20.299999999999997,
          "y": "Dismissed",
          "yshift": -12
         },
         {
          "align": "center",
          "bgcolor": "hsl(120, 70%, 50%)",
          "borderpad": 4,
          "font": {
           "color": "white",
           "size": 14
          },
          "showarrow": false,
          "text": "8.91%",
          "x": 8.910000000000004,
          "y": "Dismissed",
          "yshift": 12
         },
         {
          "align": "center",
          "bgcolor": "hsl(180, 70%, 50%)",
          "borderpad": 4,
          "font": {
           "color": "white",
           "size": 14
          },
          "showarrow": false,
          "text": "1.39%",
          "x": 1.3900000000000006,
          "y": "Dismissed",
          "yshift": -12
         },
         {
          "align": "center",
          "bgcolor": "hsl(0, 70%, 50%)",
          "borderpad": 4,
          "font": {
           "color": "white",
           "size": 14
          },
          "showarrow": false,
          "text": "6.90%",
          "x": 6.900000000000002,
          "y": "Discontinued",
          "yshift": 12
         },
         {
          "align": "center",
          "bgcolor": "hsl(60, 70%, 50%)",
          "borderpad": 4,
          "font": {
           "color": "white",
           "size": 14
          },
          "showarrow": false,
          "text": "28.94%",
          "x": 28.94,
          "y": "Discontinued",
          "yshift": -12
         },
         {
          "align": "center",
          "bgcolor": "hsl(120, 70%, 50%)",
          "borderpad": 4,
          "font": {
           "color": "white",
           "size": 14
          },
          "showarrow": false,
          "text": "-8.46%",
          "x": -8.46,
          "y": "Discontinued",
          "yshift": 12
         },
         {
          "align": "center",
          "bgcolor": "hsl(180, 70%, 50%)",
          "borderpad": 4,
          "font": {
           "color": "white",
           "size": 14
          },
          "showarrow": false,
          "text": "-1.26%",
          "x": -1.2600000000000016,
          "y": "Discontinued",
          "yshift": -12
         },
         {
          "align": "center",
          "bgcolor": "hsl(0, 70%, 50%)",
          "borderpad": 4,
          "font": {
           "color": "white",
           "size": 14
          },
          "showarrow": false,
          "text": "-8.38%",
          "x": -8.38,
          "y": "Allowed",
          "yshift": 12
         },
         {
          "align": "center",
          "bgcolor": "hsl(60, 70%, 50%)",
          "borderpad": 4,
          "font": {
           "color": "white",
           "size": 14
          },
          "showarrow": false,
          "text": "-8.76%",
          "x": -8.76,
          "y": "Allowed",
          "yshift": -12
         },
         {
          "align": "center",
          "bgcolor": "hsl(120, 70%, 50%)",
          "borderpad": 4,
          "font": {
           "color": "white",
           "size": 14
          },
          "showarrow": false,
          "text": "-0.51%",
          "x": -0.5100000000000016,
          "y": "Allowed",
          "yshift": 12
         },
         {
          "align": "center",
          "bgcolor": "hsl(180, 70%, 50%)",
          "borderpad": 4,
          "font": {
           "color": "white",
           "size": 14
          },
          "showarrow": false,
          "text": "-0.30%",
          "x": -0.3000000000000007,
          "y": "Allowed",
          "yshift": -12
         }
        ],
        "font": {
         "family": "Arial, sans-serif",
         "size": 20
        },
        "height": 800,
        "hovermode": "closest",
        "legend": {
         "bordercolor": "white",
         "borderwidth": 1,
         "itemclick": "toggle",
         "itemdoubleclick": "toggleothers",
         "orientation": "h",
         "x": 0.5,
         "xanchor": "center",
         "y": -0.3
        },
        "plot_bgcolor": "white",
        "template": {
         "data": {
          "bar": [
           {
            "error_x": {
             "color": "#2a3f5f"
            },
            "error_y": {
             "color": "#2a3f5f"
            },
            "marker": {
             "line": {
              "color": "#E5ECF6",
              "width": 0.5
             },
             "pattern": {
              "fillmode": "overlay",
              "size": 10,
              "solidity": 0.2
             }
            },
            "type": "bar"
           }
          ],
          "barpolar": [
           {
            "marker": {
             "line": {
              "color": "#E5ECF6",
              "width": 0.5
             },
             "pattern": {
              "fillmode": "overlay",
              "size": 10,
              "solidity": 0.2
             }
            },
            "type": "barpolar"
           }
          ],
          "carpet": [
           {
            "aaxis": {
             "endlinecolor": "#2a3f5f",
             "gridcolor": "white",
             "linecolor": "white",
             "minorgridcolor": "white",
             "startlinecolor": "#2a3f5f"
            },
            "baxis": {
             "endlinecolor": "#2a3f5f",
             "gridcolor": "white",
             "linecolor": "white",
             "minorgridcolor": "white",
             "startlinecolor": "#2a3f5f"
            },
            "type": "carpet"
           }
          ],
          "choropleth": [
           {
            "colorbar": {
             "outlinewidth": 0,
             "ticks": ""
            },
            "type": "choropleth"
           }
          ],
          "contour": [
           {
            "colorbar": {
             "outlinewidth": 0,
             "ticks": ""
            },
            "colorscale": [
             [
              0,
              "#0d0887"
             ],
             [
              0.1111111111111111,
              "#46039f"
             ],
             [
              0.2222222222222222,
              "#7201a8"
             ],
             [
              0.3333333333333333,
              "#9c179e"
             ],
             [
              0.4444444444444444,
              "#bd3786"
             ],
             [
              0.5555555555555556,
              "#d8576b"
             ],
             [
              0.6666666666666666,
              "#ed7953"
             ],
             [
              0.7777777777777778,
              "#fb9f3a"
             ],
             [
              0.8888888888888888,
              "#fdca26"
             ],
             [
              1,
              "#f0f921"
             ]
            ],
            "type": "contour"
           }
          ],
          "contourcarpet": [
           {
            "colorbar": {
             "outlinewidth": 0,
             "ticks": ""
            },
            "type": "contourcarpet"
           }
          ],
          "heatmap": [
           {
            "colorbar": {
             "outlinewidth": 0,
             "ticks": ""
            },
            "colorscale": [
             [
              0,
              "#0d0887"
             ],
             [
              0.1111111111111111,
              "#46039f"
             ],
             [
              0.2222222222222222,
              "#7201a8"
             ],
             [
              0.3333333333333333,
              "#9c179e"
             ],
             [
              0.4444444444444444,
              "#bd3786"
             ],
             [
              0.5555555555555556,
              "#d8576b"
             ],
             [
              0.6666666666666666,
              "#ed7953"
             ],
             [
              0.7777777777777778,
              "#fb9f3a"
             ],
             [
              0.8888888888888888,
              "#fdca26"
             ],
             [
              1,
              "#f0f921"
             ]
            ],
            "type": "heatmap"
           }
          ],
          "histogram": [
           {
            "marker": {
             "pattern": {
              "fillmode": "overlay",
              "size": 10,
              "solidity": 0.2
             }
            },
            "type": "histogram"
           }
          ],
          "histogram2d": [
           {
            "colorbar": {
             "outlinewidth": 0,
             "ticks": ""
            },
            "colorscale": [
             [
              0,
              "#0d0887"
             ],
             [
              0.1111111111111111,
              "#46039f"
             ],
             [
              0.2222222222222222,
              "#7201a8"
             ],
             [
              0.3333333333333333,
              "#9c179e"
             ],
             [
              0.4444444444444444,
              "#bd3786"
             ],
             [
              0.5555555555555556,
              "#d8576b"
             ],
             [
              0.6666666666666666,
              "#ed7953"
             ],
             [
              0.7777777777777778,
              "#fb9f3a"
             ],
             [
              0.8888888888888888,
              "#fdca26"
             ],
             [
              1,
              "#f0f921"
             ]
            ],
            "type": "histogram2d"
           }
          ],
          "histogram2dcontour": [
           {
            "colorbar": {
             "outlinewidth": 0,
             "ticks": ""
            },
            "colorscale": [
             [
              0,
              "#0d0887"
             ],
             [
              0.1111111111111111,
              "#46039f"
             ],
             [
              0.2222222222222222,
              "#7201a8"
             ],
             [
              0.3333333333333333,
              "#9c179e"
             ],
             [
              0.4444444444444444,
              "#bd3786"
             ],
             [
              0.5555555555555556,
              "#d8576b"
             ],
             [
              0.6666666666666666,
              "#ed7953"
             ],
             [
              0.7777777777777778,
              "#fb9f3a"
             ],
             [
              0.8888888888888888,
              "#fdca26"
             ],
             [
              1,
              "#f0f921"
             ]
            ],
            "type": "histogram2dcontour"
           }
          ],
          "mesh3d": [
           {
            "colorbar": {
             "outlinewidth": 0,
             "ticks": ""
            },
            "type": "mesh3d"
           }
          ],
          "parcoords": [
           {
            "line": {
             "colorbar": {
              "outlinewidth": 0,
              "ticks": ""
             }
            },
            "type": "parcoords"
           }
          ],
          "pie": [
           {
            "automargin": true,
            "type": "pie"
           }
          ],
          "scatter": [
           {
            "fillpattern": {
             "fillmode": "overlay",
             "size": 10,
             "solidity": 0.2
            },
            "type": "scatter"
           }
          ],
          "scatter3d": [
           {
            "line": {
             "colorbar": {
              "outlinewidth": 0,
              "ticks": ""
             }
            },
            "marker": {
             "colorbar": {
              "outlinewidth": 0,
              "ticks": ""
             }
            },
            "type": "scatter3d"
           }
          ],
          "scattercarpet": [
           {
            "marker": {
             "colorbar": {
              "outlinewidth": 0,
              "ticks": ""
             }
            },
            "type": "scattercarpet"
           }
          ],
          "scattergeo": [
           {
            "marker": {
             "colorbar": {
              "outlinewidth": 0,
              "ticks": ""
             }
            },
            "type": "scattergeo"
           }
          ],
          "scattergl": [
           {
            "marker": {
             "colorbar": {
              "outlinewidth": 0,
              "ticks": ""
             }
            },
            "type": "scattergl"
           }
          ],
          "scattermap": [
           {
            "marker": {
             "colorbar": {
              "outlinewidth": 0,
              "ticks": ""
             }
            },
            "type": "scattermap"
           }
          ],
          "scattermapbox": [
           {
            "marker": {
             "colorbar": {
              "outlinewidth": 0,
              "ticks": ""
             }
            },
            "type": "scattermapbox"
           }
          ],
          "scatterpolar": [
           {
            "marker": {
             "colorbar": {
              "outlinewidth": 0,
              "ticks": ""
             }
            },
            "type": "scatterpolar"
           }
          ],
          "scatterpolargl": [
           {
            "marker": {
             "colorbar": {
              "outlinewidth": 0,
              "ticks": ""
             }
            },
            "type": "scatterpolargl"
           }
          ],
          "scatterternary": [
           {
            "marker": {
             "colorbar": {
              "outlinewidth": 0,
              "ticks": ""
             }
            },
            "type": "scatterternary"
           }
          ],
          "surface": [
           {
            "colorbar": {
             "outlinewidth": 0,
             "ticks": ""
            },
            "colorscale": [
             [
              0,
              "#0d0887"
             ],
             [
              0.1111111111111111,
              "#46039f"
             ],
             [
              0.2222222222222222,
              "#7201a8"
             ],
             [
              0.3333333333333333,
              "#9c179e"
             ],
             [
              0.4444444444444444,
              "#bd3786"
             ],
             [
              0.5555555555555556,
              "#d8576b"
             ],
             [
              0.6666666666666666,
              "#ed7953"
             ],
             [
              0.7777777777777778,
              "#fb9f3a"
             ],
             [
              0.8888888888888888,
              "#fdca26"
             ],
             [
              1,
              "#f0f921"
             ]
            ],
            "type": "surface"
           }
          ],
          "table": [
           {
            "cells": {
             "fill": {
              "color": "#EBF0F8"
             },
             "line": {
              "color": "white"
             }
            },
            "header": {
             "fill": {
              "color": "#C8D4E3"
             },
             "line": {
              "color": "white"
             }
            },
            "type": "table"
           }
          ]
         },
         "layout": {
          "annotationdefaults": {
           "arrowcolor": "#2a3f5f",
           "arrowhead": 0,
           "arrowwidth": 1
          },
          "autotypenumbers": "strict",
          "coloraxis": {
           "colorbar": {
            "outlinewidth": 0,
            "ticks": ""
           }
          },
          "colorscale": {
           "diverging": [
            [
             0,
             "#8e0152"
            ],
            [
             0.1,
             "#c51b7d"
            ],
            [
             0.2,
             "#de77ae"
            ],
            [
             0.3,
             "#f1b6da"
            ],
            [
             0.4,
             "#fde0ef"
            ],
            [
             0.5,
             "#f7f7f7"
            ],
            [
             0.6,
             "#e6f5d0"
            ],
            [
             0.7,
             "#b8e186"
            ],
            [
             0.8,
             "#7fbc41"
            ],
            [
             0.9,
             "#4d9221"
            ],
            [
             1,
             "#276419"
            ]
           ],
           "sequential": [
            [
             0,
             "#0d0887"
            ],
            [
             0.1111111111111111,
             "#46039f"
            ],
            [
             0.2222222222222222,
             "#7201a8"
            ],
            [
             0.3333333333333333,
             "#9c179e"
            ],
            [
             0.4444444444444444,
             "#bd3786"
            ],
            [
             0.5555555555555556,
             "#d8576b"
            ],
            [
             0.6666666666666666,
             "#ed7953"
            ],
            [
             0.7777777777777778,
             "#fb9f3a"
            ],
            [
             0.8888888888888888,
             "#fdca26"
            ],
            [
             1,
             "#f0f921"
            ]
           ],
           "sequentialminus": [
            [
             0,
             "#0d0887"
            ],
            [
             0.1111111111111111,
             "#46039f"
            ],
            [
             0.2222222222222222,
             "#7201a8"
            ],
            [
             0.3333333333333333,
             "#9c179e"
            ],
            [
             0.4444444444444444,
             "#bd3786"
            ],
            [
             0.5555555555555556,
             "#d8576b"
            ],
            [
             0.6666666666666666,
             "#ed7953"
            ],
            [
             0.7777777777777778,
             "#fb9f3a"
            ],
            [
             0.8888888888888888,
             "#fdca26"
            ],
            [
             1,
             "#f0f921"
            ]
           ]
          },
          "colorway": [
           "#636efa",
           "#EF553B",
           "#00cc96",
           "#ab63fa",
           "#FFA15A",
           "#19d3f3",
           "#FF6692",
           "#B6E880",
           "#FF97FF",
           "#FECB52"
          ],
          "font": {
           "color": "#2a3f5f"
          },
          "geo": {
           "bgcolor": "white",
           "lakecolor": "white",
           "landcolor": "#E5ECF6",
           "showlakes": true,
           "showland": true,
           "subunitcolor": "white"
          },
          "hoverlabel": {
           "align": "left"
          },
          "hovermode": "closest",
          "mapbox": {
           "style": "light"
          },
          "paper_bgcolor": "white",
          "plot_bgcolor": "#E5ECF6",
          "polar": {
           "angularaxis": {
            "gridcolor": "white",
            "linecolor": "white",
            "ticks": ""
           },
           "bgcolor": "#E5ECF6",
           "radialaxis": {
            "gridcolor": "white",
            "linecolor": "white",
            "ticks": ""
           }
          },
          "scene": {
           "xaxis": {
            "backgroundcolor": "#E5ECF6",
            "gridcolor": "white",
            "gridwidth": 2,
            "linecolor": "white",
            "showbackground": true,
            "ticks": "",
            "zerolinecolor": "white"
           },
           "yaxis": {
            "backgroundcolor": "#E5ECF6",
            "gridcolor": "white",
            "gridwidth": 2,
            "linecolor": "white",
            "showbackground": true,
            "ticks": "",
            "zerolinecolor": "white"
           },
           "zaxis": {
            "backgroundcolor": "#E5ECF6",
            "gridcolor": "white",
            "gridwidth": 2,
            "linecolor": "white",
            "showbackground": true,
            "ticks": "",
            "zerolinecolor": "white"
           }
          },
          "shapedefaults": {
           "line": {
            "color": "#2a3f5f"
           }
          },
          "ternary": {
           "aaxis": {
            "gridcolor": "white",
            "linecolor": "white",
            "ticks": ""
           },
           "baxis": {
            "gridcolor": "white",
            "linecolor": "white",
            "ticks": ""
           },
           "bgcolor": "#E5ECF6",
           "caxis": {
            "gridcolor": "white",
            "linecolor": "white",
            "ticks": ""
           }
          },
          "title": {
           "x": 0.05
          },
          "xaxis": {
           "automargin": true,
           "gridcolor": "white",
           "linecolor": "white",
           "ticks": "",
           "title": {
            "standoff": 15
           },
           "zerolinecolor": "white",
           "zerolinewidth": 2
          },
          "yaxis": {
           "automargin": true,
           "gridcolor": "white",
           "linecolor": "white",
           "ticks": "",
           "title": {
            "standoff": 15
           },
           "zerolinecolor": "white",
           "zerolinewidth": 2
          }
         }
        },
        "width": 1500,
        "xaxis": {
         "title": {
          "text": "Difference in Percentage (country % - total %)"
         }
        },
        "yaxis": {
         "autorange": "reversed",
         "gridcolor": "white",
         "title": {
          "text": "Leave Decision"
         }
        }
       }
      }
     },
     "metadata": {},
     "output_type": "display_data"
    }
   ],
   "source": [
    "total_df = decision_desc[['LIT Leave Decision Desc', 'Percentage']].rename(columns={'Percentage': 'Total_Percentage'})\n",
    "\n",
    "# country_df: country percentages per decision type\n",
    "country_df = dumble_data[['Country of Citizenship', 'LIT Leave Decision Desc', 'Percentage']]\n",
    "\n",
    "# Merge and compute difference\n",
    "merged = pd.merge(country_df, total_df, on='LIT Leave Decision Desc')\n",
    "merged['Difference'] = merged['Percentage'] - merged['Total_Percentage']\n",
    "\n",
    "fig = go.Figure()\n",
    "\n",
    "# Show legend only for countries that appear in 'Dismissed'\n",
    "dismissed_countries = set(merged[merged['LIT Leave Decision Desc'] == 'Dismissed']['Country of Citizenship'])\n",
    "\n",
    "# Color map (optional)\n",
    "unique_countries = merged['Country of Citizenship'].unique()\n",
    "color_map = {country: f\"hsl({i * 60 % 360}, 70%, 50%)\" for i, country in enumerate(unique_countries)}\n",
    "\n",
    "for decision in merged['LIT Leave Decision Desc'].unique():\n",
    "    subset = merged[merged['LIT Leave Decision Desc'] == decision]\n",
    "\n",
    "    for i, (_, row) in enumerate(subset.iterrows()):\n",
    "        fig.add_trace(go.Scatter(\n",
    "            x=[0, row['Difference']],\n",
    "            y=[decision, decision],\n",
    "            mode='lines',\n",
    "            line=dict(color='gray', width=2),\n",
    "            showlegend=False\n",
    "        ))\n",
    "\n",
    "        text_pos = 'top center' if i % 2 == 0 else 'bottom center'\n",
    "        show_legend_label = (row['Country of Citizenship'] in dismissed_countries) and (decision == 'Dismissed')\n",
    "\n",
    "        fig.add_trace(go.Scatter(\n",
    "            x=[row['Difference']],\n",
    "            y=[decision],\n",
    "            mode='markers',\n",
    "            marker=dict(size=16, color=color_map[row['Country of Citizenship']], symbol='circle'),\n",
    "            showlegend=show_legend_label,\n",
    "            name=row['Country of Citizenship'],\n",
    "            hovertemplate=(\n",
    "                f\"{row['Country of Citizenship']}<br>\"\n",
    "                f\"Decision: {decision}<br>\"\n",
    "                f\"Difference: {row['Difference']:.2f}%<extra></extra>\"\n",
    "            )\n",
    "        ))\n",
    "\n",
    "        fig.add_annotation(\n",
    "            x=row['Difference'],\n",
    "            y=decision,\n",
    "            text=f\"{row['Difference']:.2f}%\",\n",
    "            showarrow=False,\n",
    "            font=dict(size=14, color='white'),\n",
    "            align='center',\n",
    "            bgcolor=color_map[row['Country of Citizenship']],\n",
    "            borderpad=4,\n",
    "            yshift=12 if i % 2 == 0 else -12\n",
    "        )\n",
    "\n",
    "\n",
    "fig.update_layout(\n",
    "    xaxis=dict(title=\"Difference in Percentage (country % - total %)\"),\n",
    "    yaxis=dict(title=\"Leave Decision\", autorange='reversed', gridcolor='white'),\n",
    "    height=800,\n",
    "    width=1500,\n",
    "    plot_bgcolor='white',\n",
    "    font=dict(family='Arial, sans-serif', size=20),\n",
    "    hovermode=\"closest\",\n",
    "    legend=dict(\n",
    "        orientation=\"h\",\n",
    "        y=-0.3,\n",
    "        x=0.5,\n",
    "        xanchor=\"center\",\n",
    "        bordercolor=\"white\",\n",
    "        borderwidth=1,\n",
    "        itemclick=\"toggle\",\n",
    "        itemdoubleclick=\"toggleothers\"\n",
    "    )\n",
    ")\n",
    "\n",
    "fig.show()"
   ]
  },
  {
   "cell_type": "markdown",
   "id": "d71976dd",
   "metadata": {},
   "source": [
    "## 6. Decision Type by Case Type\n",
    "We also broke down outcomes by case type, and there are some clear patterns:\n",
    "\n",
    "- Mandamus has a much higher discontinuation rate, about 40% above average.\n",
    "\n",
    "- Visa Officer Refusals are also discontinued more (+27.6%).\n",
    "\n",
    "- RAD cases, on the other hand, are discontinued far less (–21%).\n",
    "\n",
    "- For dismissals, RAD is 18% higher than average, while mandamus and visa refusals are both lower by 25% and 19% respectively.\n",
    "\n",
    "- Allowed rates are lowest for mandamus (–15%) and visa refusals (–8%). RAD cases are close to average (+2%)."
   ]
  },
  {
   "cell_type": "code",
   "execution_count": 19,
   "id": "3e28ae0f",
   "metadata": {},
   "outputs": [
    {
     "name": "stderr",
     "output_type": "stream",
     "text": [
      "/var/folders/f9/98mwc4pn4l51n7xqzs0w7ryh0000gn/T/ipykernel_40455/3935929983.py:13: SettingWithCopyWarning:\n",
      "\n",
      "\n",
      "A value is trying to be set on a copy of a slice from a DataFrame.\n",
      "Try using .loc[row_indexer,col_indexer] = value instead\n",
      "\n",
      "See the caveats in the documentation: https://pandas.pydata.org/pandas-docs/stable/user_guide/indexing.html#returning-a-view-versus-a-copy\n",
      "\n"
     ]
    }
   ],
   "source": [
    "grouped_df = (\n",
    "    lit.groupby([\"LIT Case Type Group Desc\", \"LIT Leave Decision Desc\"])[\"LIT Litigation Count\"]\n",
    "    .sum()\n",
    "    .reset_index()\n",
    ")\n",
    "\n",
    "specific_case_types = [\"RAD Decisions\", \"Visa Officer Refusal\", \"Mandamus\"]\n",
    "\n",
    "# Filter data for these specific case types only\n",
    "filtered_df = grouped_df[grouped_df[\"LIT Case Type Group Desc\"].isin(specific_case_types)]\n",
    "\n",
    "# Calculate percentage contribution within each case type\n",
    "filtered_df[\"Percentage\"] = (\n",
    "    filtered_df.groupby(\"LIT Case Type Group Desc\")[\"LIT Litigation Count\"]\n",
    "    .transform(lambda x: (x / x.sum() * 100) if x.sum() > 0 else 0)\n",
    "    .round(2)\n",
    ")\n",
    "\n",
    "# Prepare table data sorted by case type and litigation count\n",
    "table_data = filtered_df.sort_values(\n",
    "    [\"LIT Case Type Group Desc\", \"LIT Litigation Count\"], ascending=[True, False]\n",
    ")\n",
    "\n",
    "# Filter out unwanted leave decisions (same as your dumble_data1 logic)\n",
    "dumble_data1 = table_data[\n",
    "    ~table_data[\"LIT Leave Decision Desc\"].isin(['Not Started at Leave', 'No Leave Required', 'Leave Exception'])\n",
    "]"
   ]
  },
  {
   "cell_type": "code",
   "execution_count": 27,
   "id": "5eea2c71",
   "metadata": {},
   "outputs": [
    {
     "data": {
      "application/vnd.plotly.v1+json": {
       "config": {
        "plotlyServerURL": "https://plot.ly"
       },
       "data": [
        {
         "line": {
          "color": "gray",
          "width": 2
         },
         "mode": "lines",
         "showlegend": false,
         "type": "scatter",
         "x": [
          0,
          40.44
         ],
         "y": [
          "Discontinued",
          "Discontinued"
         ]
        },
        {
         "hovertemplate": "Case Type Group: Mandamus<br>Decision: Discontinued<br>Difference: 40.44%<extra></extra>",
         "marker": {
          "color": "hsl(0, 70%, 50%)",
          "size": 16,
          "symbol": "circle"
         },
         "mode": "markers",
         "name": "Mandamus",
         "showlegend": false,
         "type": "scatter",
         "x": [
          40.44
         ],
         "y": [
          "Discontinued"
         ]
        },
        {
         "line": {
          "color": "gray",
          "width": 2
         },
         "mode": "lines",
         "showlegend": false,
         "type": "scatter",
         "x": [
          0,
          -21.28
         ],
         "y": [
          "Discontinued",
          "Discontinued"
         ]
        },
        {
         "hovertemplate": "Case Type Group: RAD Decisions<br>Decision: Discontinued<br>Difference: -21.28%<extra></extra>",
         "marker": {
          "color": "hsl(60, 70%, 50%)",
          "size": 16,
          "symbol": "circle"
         },
         "mode": "markers",
         "name": "RAD Decisions",
         "showlegend": false,
         "type": "scatter",
         "x": [
          -21.28
         ],
         "y": [
          "Discontinued"
         ]
        },
        {
         "line": {
          "color": "gray",
          "width": 2
         },
         "mode": "lines",
         "showlegend": false,
         "type": "scatter",
         "x": [
          0,
          27.63
         ],
         "y": [
          "Discontinued",
          "Discontinued"
         ]
        },
        {
         "hovertemplate": "Case Type Group: Visa Officer Refusal<br>Decision: Discontinued<br>Difference: 27.63%<extra></extra>",
         "marker": {
          "color": "hsl(120, 70%, 50%)",
          "size": 16,
          "symbol": "circle"
         },
         "mode": "markers",
         "name": "Visa Officer Refusal",
         "showlegend": false,
         "type": "scatter",
         "x": [
          27.63
         ],
         "y": [
          "Discontinued"
         ]
        },
        {
         "line": {
          "color": "gray",
          "width": 2
         },
         "mode": "lines",
         "showlegend": false,
         "type": "scatter",
         "x": [
          0,
          -25.24
         ],
         "y": [
          "Dismissed",
          "Dismissed"
         ]
        },
        {
         "hovertemplate": "Case Type Group: Mandamus<br>Decision: Dismissed<br>Difference: -25.24%<extra></extra>",
         "marker": {
          "color": "hsl(0, 70%, 50%)",
          "size": 16,
          "symbol": "circle"
         },
         "mode": "markers",
         "name": "Mandamus",
         "showlegend": true,
         "type": "scatter",
         "x": [
          -25.24
         ],
         "y": [
          "Dismissed"
         ]
        },
        {
         "line": {
          "color": "gray",
          "width": 2
         },
         "mode": "lines",
         "showlegend": false,
         "type": "scatter",
         "x": [
          0,
          18.640000000000008
         ],
         "y": [
          "Dismissed",
          "Dismissed"
         ]
        },
        {
         "hovertemplate": "Case Type Group: RAD Decisions<br>Decision: Dismissed<br>Difference: 18.64%<extra></extra>",
         "marker": {
          "color": "hsl(60, 70%, 50%)",
          "size": 16,
          "symbol": "circle"
         },
         "mode": "markers",
         "name": "RAD Decisions",
         "showlegend": true,
         "type": "scatter",
         "x": [
          18.640000000000008
         ],
         "y": [
          "Dismissed"
         ]
        },
        {
         "line": {
          "color": "gray",
          "width": 2
         },
         "mode": "lines",
         "showlegend": false,
         "type": "scatter",
         "x": [
          0,
          -19.269999999999996
         ],
         "y": [
          "Dismissed",
          "Dismissed"
         ]
        },
        {
         "hovertemplate": "Case Type Group: Visa Officer Refusal<br>Decision: Dismissed<br>Difference: -19.27%<extra></extra>",
         "marker": {
          "color": "hsl(120, 70%, 50%)",
          "size": 16,
          "symbol": "circle"
         },
         "mode": "markers",
         "name": "Visa Officer Refusal",
         "showlegend": true,
         "type": "scatter",
         "x": [
          -19.269999999999996
         ],
         "y": [
          "Dismissed"
         ]
        },
        {
         "line": {
          "color": "gray",
          "width": 2
         },
         "mode": "lines",
         "showlegend": false,
         "type": "scatter",
         "x": [
          0,
          -15.4
         ],
         "y": [
          "Allowed",
          "Allowed"
         ]
        },
        {
         "hovertemplate": "Case Type Group: Mandamus<br>Decision: Allowed<br>Difference: -15.40%<extra></extra>",
         "marker": {
          "color": "hsl(0, 70%, 50%)",
          "size": 16,
          "symbol": "circle"
         },
         "mode": "markers",
         "name": "Mandamus",
         "showlegend": false,
         "type": "scatter",
         "x": [
          -15.4
         ],
         "y": [
          "Allowed"
         ]
        },
        {
         "line": {
          "color": "gray",
          "width": 2
         },
         "mode": "lines",
         "showlegend": false,
         "type": "scatter",
         "x": [
          0,
          2.539999999999999
         ],
         "y": [
          "Allowed",
          "Allowed"
         ]
        },
        {
         "hovertemplate": "Case Type Group: RAD Decisions<br>Decision: Allowed<br>Difference: 2.54%<extra></extra>",
         "marker": {
          "color": "hsl(60, 70%, 50%)",
          "size": 16,
          "symbol": "circle"
         },
         "mode": "markers",
         "name": "RAD Decisions",
         "showlegend": false,
         "type": "scatter",
         "x": [
          2.539999999999999
         ],
         "y": [
          "Allowed"
         ]
        },
        {
         "line": {
          "color": "gray",
          "width": 2
         },
         "mode": "lines",
         "showlegend": false,
         "type": "scatter",
         "x": [
          0,
          -8.45
         ],
         "y": [
          "Allowed",
          "Allowed"
         ]
        },
        {
         "hovertemplate": "Case Type Group: Visa Officer Refusal<br>Decision: Allowed<br>Difference: -8.45%<extra></extra>",
         "marker": {
          "color": "hsl(120, 70%, 50%)",
          "size": 16,
          "symbol": "circle"
         },
         "mode": "markers",
         "name": "Visa Officer Refusal",
         "showlegend": false,
         "type": "scatter",
         "x": [
          -8.45
         ],
         "y": [
          "Allowed"
         ]
        }
       ],
       "layout": {
        "annotations": [
         {
          "align": "center",
          "bgcolor": "hsl(0, 70%, 50%)",
          "borderpad": 4,
          "font": {
           "color": "white",
           "size": 14
          },
          "showarrow": false,
          "text": "40.44%",
          "x": 40.44,
          "y": "Discontinued",
          "yshift": 12
         },
         {
          "align": "center",
          "bgcolor": "hsl(60, 70%, 50%)",
          "borderpad": 4,
          "font": {
           "color": "white",
           "size": 14
          },
          "showarrow": false,
          "text": "-21.28%",
          "x": -21.28,
          "y": "Discontinued",
          "yshift": -12
         },
         {
          "align": "center",
          "bgcolor": "hsl(120, 70%, 50%)",
          "borderpad": 4,
          "font": {
           "color": "white",
           "size": 14
          },
          "showarrow": false,
          "text": "27.63%",
          "x": 27.63,
          "y": "Discontinued",
          "yshift": 12
         },
         {
          "align": "center",
          "bgcolor": "hsl(0, 70%, 50%)",
          "borderpad": 4,
          "font": {
           "color": "white",
           "size": 14
          },
          "showarrow": false,
          "text": "-25.24%",
          "x": -25.24,
          "y": "Dismissed",
          "yshift": 12
         },
         {
          "align": "center",
          "bgcolor": "hsl(60, 70%, 50%)",
          "borderpad": 4,
          "font": {
           "color": "white",
           "size": 14
          },
          "showarrow": false,
          "text": "18.64%",
          "x": 18.640000000000008,
          "y": "Dismissed",
          "yshift": -12
         },
         {
          "align": "center",
          "bgcolor": "hsl(120, 70%, 50%)",
          "borderpad": 4,
          "font": {
           "color": "white",
           "size": 14
          },
          "showarrow": false,
          "text": "-19.27%",
          "x": -19.269999999999996,
          "y": "Dismissed",
          "yshift": 12
         },
         {
          "align": "center",
          "bgcolor": "hsl(0, 70%, 50%)",
          "borderpad": 4,
          "font": {
           "color": "white",
           "size": 14
          },
          "showarrow": false,
          "text": "-15.40%",
          "x": -15.4,
          "y": "Allowed",
          "yshift": 12
         },
         {
          "align": "center",
          "bgcolor": "hsl(60, 70%, 50%)",
          "borderpad": 4,
          "font": {
           "color": "white",
           "size": 14
          },
          "showarrow": false,
          "text": "2.54%",
          "x": 2.539999999999999,
          "y": "Allowed",
          "yshift": -12
         },
         {
          "align": "center",
          "bgcolor": "hsl(120, 70%, 50%)",
          "borderpad": 4,
          "font": {
           "color": "white",
           "size": 14
          },
          "showarrow": false,
          "text": "-8.45%",
          "x": -8.45,
          "y": "Allowed",
          "yshift": 12
         }
        ],
        "font": {
         "family": "Arial, sans-serif",
         "size": 20
        },
        "height": 800,
        "hovermode": "closest",
        "legend": {
         "bordercolor": "white",
         "borderwidth": 1,
         "itemclick": "toggle",
         "itemdoubleclick": "toggleothers",
         "orientation": "h",
         "x": 0.5,
         "xanchor": "center",
         "y": -0.3
        },
        "plot_bgcolor": "white",
        "template": {
         "data": {
          "bar": [
           {
            "error_x": {
             "color": "#2a3f5f"
            },
            "error_y": {
             "color": "#2a3f5f"
            },
            "marker": {
             "line": {
              "color": "#E5ECF6",
              "width": 0.5
             },
             "pattern": {
              "fillmode": "overlay",
              "size": 10,
              "solidity": 0.2
             }
            },
            "type": "bar"
           }
          ],
          "barpolar": [
           {
            "marker": {
             "line": {
              "color": "#E5ECF6",
              "width": 0.5
             },
             "pattern": {
              "fillmode": "overlay",
              "size": 10,
              "solidity": 0.2
             }
            },
            "type": "barpolar"
           }
          ],
          "carpet": [
           {
            "aaxis": {
             "endlinecolor": "#2a3f5f",
             "gridcolor": "white",
             "linecolor": "white",
             "minorgridcolor": "white",
             "startlinecolor": "#2a3f5f"
            },
            "baxis": {
             "endlinecolor": "#2a3f5f",
             "gridcolor": "white",
             "linecolor": "white",
             "minorgridcolor": "white",
             "startlinecolor": "#2a3f5f"
            },
            "type": "carpet"
           }
          ],
          "choropleth": [
           {
            "colorbar": {
             "outlinewidth": 0,
             "ticks": ""
            },
            "type": "choropleth"
           }
          ],
          "contour": [
           {
            "colorbar": {
             "outlinewidth": 0,
             "ticks": ""
            },
            "colorscale": [
             [
              0,
              "#0d0887"
             ],
             [
              0.1111111111111111,
              "#46039f"
             ],
             [
              0.2222222222222222,
              "#7201a8"
             ],
             [
              0.3333333333333333,
              "#9c179e"
             ],
             [
              0.4444444444444444,
              "#bd3786"
             ],
             [
              0.5555555555555556,
              "#d8576b"
             ],
             [
              0.6666666666666666,
              "#ed7953"
             ],
             [
              0.7777777777777778,
              "#fb9f3a"
             ],
             [
              0.8888888888888888,
              "#fdca26"
             ],
             [
              1,
              "#f0f921"
             ]
            ],
            "type": "contour"
           }
          ],
          "contourcarpet": [
           {
            "colorbar": {
             "outlinewidth": 0,
             "ticks": ""
            },
            "type": "contourcarpet"
           }
          ],
          "heatmap": [
           {
            "colorbar": {
             "outlinewidth": 0,
             "ticks": ""
            },
            "colorscale": [
             [
              0,
              "#0d0887"
             ],
             [
              0.1111111111111111,
              "#46039f"
             ],
             [
              0.2222222222222222,
              "#7201a8"
             ],
             [
              0.3333333333333333,
              "#9c179e"
             ],
             [
              0.4444444444444444,
              "#bd3786"
             ],
             [
              0.5555555555555556,
              "#d8576b"
             ],
             [
              0.6666666666666666,
              "#ed7953"
             ],
             [
              0.7777777777777778,
              "#fb9f3a"
             ],
             [
              0.8888888888888888,
              "#fdca26"
             ],
             [
              1,
              "#f0f921"
             ]
            ],
            "type": "heatmap"
           }
          ],
          "histogram": [
           {
            "marker": {
             "pattern": {
              "fillmode": "overlay",
              "size": 10,
              "solidity": 0.2
             }
            },
            "type": "histogram"
           }
          ],
          "histogram2d": [
           {
            "colorbar": {
             "outlinewidth": 0,
             "ticks": ""
            },
            "colorscale": [
             [
              0,
              "#0d0887"
             ],
             [
              0.1111111111111111,
              "#46039f"
             ],
             [
              0.2222222222222222,
              "#7201a8"
             ],
             [
              0.3333333333333333,
              "#9c179e"
             ],
             [
              0.4444444444444444,
              "#bd3786"
             ],
             [
              0.5555555555555556,
              "#d8576b"
             ],
             [
              0.6666666666666666,
              "#ed7953"
             ],
             [
              0.7777777777777778,
              "#fb9f3a"
             ],
             [
              0.8888888888888888,
              "#fdca26"
             ],
             [
              1,
              "#f0f921"
             ]
            ],
            "type": "histogram2d"
           }
          ],
          "histogram2dcontour": [
           {
            "colorbar": {
             "outlinewidth": 0,
             "ticks": ""
            },
            "colorscale": [
             [
              0,
              "#0d0887"
             ],
             [
              0.1111111111111111,
              "#46039f"
             ],
             [
              0.2222222222222222,
              "#7201a8"
             ],
             [
              0.3333333333333333,
              "#9c179e"
             ],
             [
              0.4444444444444444,
              "#bd3786"
             ],
             [
              0.5555555555555556,
              "#d8576b"
             ],
             [
              0.6666666666666666,
              "#ed7953"
             ],
             [
              0.7777777777777778,
              "#fb9f3a"
             ],
             [
              0.8888888888888888,
              "#fdca26"
             ],
             [
              1,
              "#f0f921"
             ]
            ],
            "type": "histogram2dcontour"
           }
          ],
          "mesh3d": [
           {
            "colorbar": {
             "outlinewidth": 0,
             "ticks": ""
            },
            "type": "mesh3d"
           }
          ],
          "parcoords": [
           {
            "line": {
             "colorbar": {
              "outlinewidth": 0,
              "ticks": ""
             }
            },
            "type": "parcoords"
           }
          ],
          "pie": [
           {
            "automargin": true,
            "type": "pie"
           }
          ],
          "scatter": [
           {
            "fillpattern": {
             "fillmode": "overlay",
             "size": 10,
             "solidity": 0.2
            },
            "type": "scatter"
           }
          ],
          "scatter3d": [
           {
            "line": {
             "colorbar": {
              "outlinewidth": 0,
              "ticks": ""
             }
            },
            "marker": {
             "colorbar": {
              "outlinewidth": 0,
              "ticks": ""
             }
            },
            "type": "scatter3d"
           }
          ],
          "scattercarpet": [
           {
            "marker": {
             "colorbar": {
              "outlinewidth": 0,
              "ticks": ""
             }
            },
            "type": "scattercarpet"
           }
          ],
          "scattergeo": [
           {
            "marker": {
             "colorbar": {
              "outlinewidth": 0,
              "ticks": ""
             }
            },
            "type": "scattergeo"
           }
          ],
          "scattergl": [
           {
            "marker": {
             "colorbar": {
              "outlinewidth": 0,
              "ticks": ""
             }
            },
            "type": "scattergl"
           }
          ],
          "scattermap": [
           {
            "marker": {
             "colorbar": {
              "outlinewidth": 0,
              "ticks": ""
             }
            },
            "type": "scattermap"
           }
          ],
          "scattermapbox": [
           {
            "marker": {
             "colorbar": {
              "outlinewidth": 0,
              "ticks": ""
             }
            },
            "type": "scattermapbox"
           }
          ],
          "scatterpolar": [
           {
            "marker": {
             "colorbar": {
              "outlinewidth": 0,
              "ticks": ""
             }
            },
            "type": "scatterpolar"
           }
          ],
          "scatterpolargl": [
           {
            "marker": {
             "colorbar": {
              "outlinewidth": 0,
              "ticks": ""
             }
            },
            "type": "scatterpolargl"
           }
          ],
          "scatterternary": [
           {
            "marker": {
             "colorbar": {
              "outlinewidth": 0,
              "ticks": ""
             }
            },
            "type": "scatterternary"
           }
          ],
          "surface": [
           {
            "colorbar": {
             "outlinewidth": 0,
             "ticks": ""
            },
            "colorscale": [
             [
              0,
              "#0d0887"
             ],
             [
              0.1111111111111111,
              "#46039f"
             ],
             [
              0.2222222222222222,
              "#7201a8"
             ],
             [
              0.3333333333333333,
              "#9c179e"
             ],
             [
              0.4444444444444444,
              "#bd3786"
             ],
             [
              0.5555555555555556,
              "#d8576b"
             ],
             [
              0.6666666666666666,
              "#ed7953"
             ],
             [
              0.7777777777777778,
              "#fb9f3a"
             ],
             [
              0.8888888888888888,
              "#fdca26"
             ],
             [
              1,
              "#f0f921"
             ]
            ],
            "type": "surface"
           }
          ],
          "table": [
           {
            "cells": {
             "fill": {
              "color": "#EBF0F8"
             },
             "line": {
              "color": "white"
             }
            },
            "header": {
             "fill": {
              "color": "#C8D4E3"
             },
             "line": {
              "color": "white"
             }
            },
            "type": "table"
           }
          ]
         },
         "layout": {
          "annotationdefaults": {
           "arrowcolor": "#2a3f5f",
           "arrowhead": 0,
           "arrowwidth": 1
          },
          "autotypenumbers": "strict",
          "coloraxis": {
           "colorbar": {
            "outlinewidth": 0,
            "ticks": ""
           }
          },
          "colorscale": {
           "diverging": [
            [
             0,
             "#8e0152"
            ],
            [
             0.1,
             "#c51b7d"
            ],
            [
             0.2,
             "#de77ae"
            ],
            [
             0.3,
             "#f1b6da"
            ],
            [
             0.4,
             "#fde0ef"
            ],
            [
             0.5,
             "#f7f7f7"
            ],
            [
             0.6,
             "#e6f5d0"
            ],
            [
             0.7,
             "#b8e186"
            ],
            [
             0.8,
             "#7fbc41"
            ],
            [
             0.9,
             "#4d9221"
            ],
            [
             1,
             "#276419"
            ]
           ],
           "sequential": [
            [
             0,
             "#0d0887"
            ],
            [
             0.1111111111111111,
             "#46039f"
            ],
            [
             0.2222222222222222,
             "#7201a8"
            ],
            [
             0.3333333333333333,
             "#9c179e"
            ],
            [
             0.4444444444444444,
             "#bd3786"
            ],
            [
             0.5555555555555556,
             "#d8576b"
            ],
            [
             0.6666666666666666,
             "#ed7953"
            ],
            [
             0.7777777777777778,
             "#fb9f3a"
            ],
            [
             0.8888888888888888,
             "#fdca26"
            ],
            [
             1,
             "#f0f921"
            ]
           ],
           "sequentialminus": [
            [
             0,
             "#0d0887"
            ],
            [
             0.1111111111111111,
             "#46039f"
            ],
            [
             0.2222222222222222,
             "#7201a8"
            ],
            [
             0.3333333333333333,
             "#9c179e"
            ],
            [
             0.4444444444444444,
             "#bd3786"
            ],
            [
             0.5555555555555556,
             "#d8576b"
            ],
            [
             0.6666666666666666,
             "#ed7953"
            ],
            [
             0.7777777777777778,
             "#fb9f3a"
            ],
            [
             0.8888888888888888,
             "#fdca26"
            ],
            [
             1,
             "#f0f921"
            ]
           ]
          },
          "colorway": [
           "#636efa",
           "#EF553B",
           "#00cc96",
           "#ab63fa",
           "#FFA15A",
           "#19d3f3",
           "#FF6692",
           "#B6E880",
           "#FF97FF",
           "#FECB52"
          ],
          "font": {
           "color": "#2a3f5f"
          },
          "geo": {
           "bgcolor": "white",
           "lakecolor": "white",
           "landcolor": "#E5ECF6",
           "showlakes": true,
           "showland": true,
           "subunitcolor": "white"
          },
          "hoverlabel": {
           "align": "left"
          },
          "hovermode": "closest",
          "mapbox": {
           "style": "light"
          },
          "paper_bgcolor": "white",
          "plot_bgcolor": "#E5ECF6",
          "polar": {
           "angularaxis": {
            "gridcolor": "white",
            "linecolor": "white",
            "ticks": ""
           },
           "bgcolor": "#E5ECF6",
           "radialaxis": {
            "gridcolor": "white",
            "linecolor": "white",
            "ticks": ""
           }
          },
          "scene": {
           "xaxis": {
            "backgroundcolor": "#E5ECF6",
            "gridcolor": "white",
            "gridwidth": 2,
            "linecolor": "white",
            "showbackground": true,
            "ticks": "",
            "zerolinecolor": "white"
           },
           "yaxis": {
            "backgroundcolor": "#E5ECF6",
            "gridcolor": "white",
            "gridwidth": 2,
            "linecolor": "white",
            "showbackground": true,
            "ticks": "",
            "zerolinecolor": "white"
           },
           "zaxis": {
            "backgroundcolor": "#E5ECF6",
            "gridcolor": "white",
            "gridwidth": 2,
            "linecolor": "white",
            "showbackground": true,
            "ticks": "",
            "zerolinecolor": "white"
           }
          },
          "shapedefaults": {
           "line": {
            "color": "#2a3f5f"
           }
          },
          "ternary": {
           "aaxis": {
            "gridcolor": "white",
            "linecolor": "white",
            "ticks": ""
           },
           "baxis": {
            "gridcolor": "white",
            "linecolor": "white",
            "ticks": ""
           },
           "bgcolor": "#E5ECF6",
           "caxis": {
            "gridcolor": "white",
            "linecolor": "white",
            "ticks": ""
           }
          },
          "title": {
           "x": 0.05
          },
          "xaxis": {
           "automargin": true,
           "gridcolor": "white",
           "linecolor": "white",
           "ticks": "",
           "title": {
            "standoff": 15
           },
           "zerolinecolor": "white",
           "zerolinewidth": 2
          },
          "yaxis": {
           "automargin": true,
           "gridcolor": "white",
           "linecolor": "white",
           "ticks": "",
           "title": {
            "standoff": 15
           },
           "zerolinecolor": "white",
           "zerolinewidth": 2
          }
         }
        },
        "width": 1500,
        "xaxis": {
         "title": {
          "text": "Difference in Percentage (case type % - total %)"
         }
        },
        "yaxis": {
         "autorange": "reversed",
         "gridcolor": "white",
         "title": {
          "text": "Leave Decision Description"
         }
        }
       }
      }
     },
     "metadata": {},
     "output_type": "display_data"
    }
   ],
   "source": [
    "total_df = decision_desc[['LIT Leave Decision Desc', 'Percentage']].rename(columns={'Percentage':'Total_Percentage'})\n",
    "\n",
    "case_type_df = dumble_data1[['LIT Case Type Group Desc', 'LIT Leave Decision Desc', 'Percentage']]\n",
    "\n",
    "merged = pd.merge(case_type_df, total_df, on='LIT Leave Decision Desc')\n",
    "merged['Difference'] = merged['Percentage'] - merged['Total_Percentage']\n",
    "\n",
    "fig = go.Figure()\n",
    "\n",
    "dismissed_case_types = set(merged[merged['LIT Leave Decision Desc'] == 'Dismissed']['LIT Case Type Group Desc'])\n",
    "\n",
    "unique_case_types = merged['LIT Case Type Group Desc'].unique()\n",
    "color_map = {case_type: f\"hsl({i * 60 % 360}, 70%, 50%)\" for i, case_type in enumerate(unique_case_types)}\n",
    "\n",
    "for decision in merged['LIT Leave Decision Desc'].unique():\n",
    "    subset = merged[merged['LIT Leave Decision Desc'] == decision]\n",
    "    \n",
    "    for i, (_, row) in enumerate(subset.iterrows()):\n",
    "        # Line from 0 to difference\n",
    "        fig.add_trace(go.Scatter(\n",
    "            x=[0, row['Difference']],\n",
    "            y=[decision, decision],\n",
    "            mode='lines',\n",
    "            line=dict(color='gray', width=2),\n",
    "            showlegend=False\n",
    "        ))\n",
    "\n",
    "        # Marker\n",
    "        show_legend_flag = (row['LIT Case Type Group Desc'] in dismissed_case_types) and (decision == 'Dismissed')\n",
    "        \n",
    "        fig.add_trace(go.Scatter(\n",
    "            x=[row['Difference']],\n",
    "            y=[decision],\n",
    "            mode='markers',\n",
    "            marker=dict(size=16, color=color_map[row['LIT Case Type Group Desc']], symbol='circle'),\n",
    "            showlegend=show_legend_flag,\n",
    "            name=row['LIT Case Type Group Desc'],\n",
    "            hovertemplate=(\n",
    "                f\"Case Type Group: {row['LIT Case Type Group Desc']}<br>\"\n",
    "                f\"Decision: {decision}<br>\"\n",
    "                f\"Difference: {row['Difference']:.2f}%<extra></extra>\"\n",
    "            )\n",
    "        ))\n",
    "\n",
    "        # Annotated colored percentage label\n",
    "        fig.add_annotation(\n",
    "            x=row['Difference'],\n",
    "            y=decision,\n",
    "            text=f\"{row['Difference']:.2f}%\",\n",
    "            showarrow=False,\n",
    "            font=dict(size=14, color='white'),\n",
    "            align='center',\n",
    "            bgcolor=color_map[row['LIT Case Type Group Desc']],\n",
    "            borderpad=4,\n",
    "            yshift=12 if i % 2 == 0 else -12  # alternate text positions\n",
    "        )\n",
    "\n",
    "fig.update_layout(\n",
    "    xaxis=dict(\n",
    "        title=\"Difference in Percentage (case type % - total %)\",\n",
    "    ),\n",
    "    yaxis=dict(\n",
    "        title=\"Leave Decision Description\",\n",
    "        autorange='reversed',\n",
    "        gridcolor='white'\n",
    "    ),\n",
    "    height=800,\n",
    "    width=1500,\n",
    "    plot_bgcolor='white',\n",
    "    font=dict(family='Arial, sans-serif', size=20),\n",
    "    hovermode=\"closest\",\n",
    "    legend=dict(\n",
    "        orientation=\"h\",\n",
    "        y=-0.3,\n",
    "        x=0.5,\n",
    "        xanchor=\"center\",\n",
    "        bordercolor=\"white\",\n",
    "        borderwidth=1,\n",
    "        itemclick=\"toggle\",\n",
    "        itemdoubleclick=\"toggleothers\"\n",
    "    )\n",
    ")\n",
    "\n",
    "fig.show()"
   ]
  },
  {
   "cell_type": "markdown",
   "id": "38610370",
   "metadata": {},
   "source": [
    "## 7. A34(1) Refusals – Country Patterns\n",
    "In the refusal dataset, a few things stood out:\n",
    "\n",
    "- Ukraine had a massive spike in 2024 — 131 refusals, compared to just 5 in 2023.\n",
    "\n",
    "- Syria had the most refusals in 2019 and 2022.\n",
    "\n",
    "- China peaked in 2024, while Bangladesh spiked in 2019.\n",
    "\n",
    "- Iran’s refusals have been fairly steady since 2022.\n",
    "\n",
    "But most countries have relatively low A34(1) refusal counts overall, so we can’t read too much into year-to-year changes, except for Ukraine, where the 2024 jump is clearly significant."
   ]
  },
  {
   "cell_type": "code",
   "execution_count": 11,
   "id": "d225e987",
   "metadata": {},
   "outputs": [
    {
     "data": {
      "application/vnd.plotly.v1+json": {
       "config": {
        "plotlyServerURL": "https://plot.ly"
       },
       "data": [
        {
         "coloraxis": "coloraxis",
         "hovertemplate": "Year: %{x}<br>Country: %{y}<br>Count: %{z}<extra></extra>",
         "name": "0",
         "texttemplate": "%{z}",
         "type": "heatmap",
         "x": {
          "bdata": "4wfkB+UH5gfnB+gH",
          "dtype": "i2"
         },
         "xaxis": "x",
         "y": [
          "Bangladesh",
          "China",
          "Iran",
          "Syria",
          "Ukraine"
         ],
         "yaxis": "y",
         "z": {
          "bdata": "GAAFAAYAAgAKAA8ABQALAAkAAwAJABQACAAFAAoADwAOABIAHwAGAAkALgADAAYAHAAAAAQACAAFAIMA",
          "dtype": "i2",
          "shape": "5, 6"
         }
        }
       ],
       "layout": {
        "coloraxis": {
         "colorbar": {
          "title": {
           "text": "Count"
          }
         },
         "colorscale": [
          [
           0,
           "rgb(247,251,255)"
          ],
          [
           0.125,
           "rgb(222,235,247)"
          ],
          [
           0.25,
           "rgb(198,219,239)"
          ],
          [
           0.375,
           "rgb(158,202,225)"
          ],
          [
           0.5,
           "rgb(107,174,214)"
          ],
          [
           0.625,
           "rgb(66,146,198)"
          ],
          [
           0.75,
           "rgb(33,113,181)"
          ],
          [
           0.875,
           "rgb(8,81,156)"
          ],
          [
           1,
           "rgb(8,48,107)"
          ]
         ]
        },
        "font": {
         "size": 14
        },
        "margin": {
         "t": 60
        },
        "template": {
         "data": {
          "bar": [
           {
            "error_x": {
             "color": "#2a3f5f"
            },
            "error_y": {
             "color": "#2a3f5f"
            },
            "marker": {
             "line": {
              "color": "#E5ECF6",
              "width": 0.5
             },
             "pattern": {
              "fillmode": "overlay",
              "size": 10,
              "solidity": 0.2
             }
            },
            "type": "bar"
           }
          ],
          "barpolar": [
           {
            "marker": {
             "line": {
              "color": "#E5ECF6",
              "width": 0.5
             },
             "pattern": {
              "fillmode": "overlay",
              "size": 10,
              "solidity": 0.2
             }
            },
            "type": "barpolar"
           }
          ],
          "carpet": [
           {
            "aaxis": {
             "endlinecolor": "#2a3f5f",
             "gridcolor": "white",
             "linecolor": "white",
             "minorgridcolor": "white",
             "startlinecolor": "#2a3f5f"
            },
            "baxis": {
             "endlinecolor": "#2a3f5f",
             "gridcolor": "white",
             "linecolor": "white",
             "minorgridcolor": "white",
             "startlinecolor": "#2a3f5f"
            },
            "type": "carpet"
           }
          ],
          "choropleth": [
           {
            "colorbar": {
             "outlinewidth": 0,
             "ticks": ""
            },
            "type": "choropleth"
           }
          ],
          "contour": [
           {
            "colorbar": {
             "outlinewidth": 0,
             "ticks": ""
            },
            "colorscale": [
             [
              0,
              "#0d0887"
             ],
             [
              0.1111111111111111,
              "#46039f"
             ],
             [
              0.2222222222222222,
              "#7201a8"
             ],
             [
              0.3333333333333333,
              "#9c179e"
             ],
             [
              0.4444444444444444,
              "#bd3786"
             ],
             [
              0.5555555555555556,
              "#d8576b"
             ],
             [
              0.6666666666666666,
              "#ed7953"
             ],
             [
              0.7777777777777778,
              "#fb9f3a"
             ],
             [
              0.8888888888888888,
              "#fdca26"
             ],
             [
              1,
              "#f0f921"
             ]
            ],
            "type": "contour"
           }
          ],
          "contourcarpet": [
           {
            "colorbar": {
             "outlinewidth": 0,
             "ticks": ""
            },
            "type": "contourcarpet"
           }
          ],
          "heatmap": [
           {
            "colorbar": {
             "outlinewidth": 0,
             "ticks": ""
            },
            "colorscale": [
             [
              0,
              "#0d0887"
             ],
             [
              0.1111111111111111,
              "#46039f"
             ],
             [
              0.2222222222222222,
              "#7201a8"
             ],
             [
              0.3333333333333333,
              "#9c179e"
             ],
             [
              0.4444444444444444,
              "#bd3786"
             ],
             [
              0.5555555555555556,
              "#d8576b"
             ],
             [
              0.6666666666666666,
              "#ed7953"
             ],
             [
              0.7777777777777778,
              "#fb9f3a"
             ],
             [
              0.8888888888888888,
              "#fdca26"
             ],
             [
              1,
              "#f0f921"
             ]
            ],
            "type": "heatmap"
           }
          ],
          "histogram": [
           {
            "marker": {
             "pattern": {
              "fillmode": "overlay",
              "size": 10,
              "solidity": 0.2
             }
            },
            "type": "histogram"
           }
          ],
          "histogram2d": [
           {
            "colorbar": {
             "outlinewidth": 0,
             "ticks": ""
            },
            "colorscale": [
             [
              0,
              "#0d0887"
             ],
             [
              0.1111111111111111,
              "#46039f"
             ],
             [
              0.2222222222222222,
              "#7201a8"
             ],
             [
              0.3333333333333333,
              "#9c179e"
             ],
             [
              0.4444444444444444,
              "#bd3786"
             ],
             [
              0.5555555555555556,
              "#d8576b"
             ],
             [
              0.6666666666666666,
              "#ed7953"
             ],
             [
              0.7777777777777778,
              "#fb9f3a"
             ],
             [
              0.8888888888888888,
              "#fdca26"
             ],
             [
              1,
              "#f0f921"
             ]
            ],
            "type": "histogram2d"
           }
          ],
          "histogram2dcontour": [
           {
            "colorbar": {
             "outlinewidth": 0,
             "ticks": ""
            },
            "colorscale": [
             [
              0,
              "#0d0887"
             ],
             [
              0.1111111111111111,
              "#46039f"
             ],
             [
              0.2222222222222222,
              "#7201a8"
             ],
             [
              0.3333333333333333,
              "#9c179e"
             ],
             [
              0.4444444444444444,
              "#bd3786"
             ],
             [
              0.5555555555555556,
              "#d8576b"
             ],
             [
              0.6666666666666666,
              "#ed7953"
             ],
             [
              0.7777777777777778,
              "#fb9f3a"
             ],
             [
              0.8888888888888888,
              "#fdca26"
             ],
             [
              1,
              "#f0f921"
             ]
            ],
            "type": "histogram2dcontour"
           }
          ],
          "mesh3d": [
           {
            "colorbar": {
             "outlinewidth": 0,
             "ticks": ""
            },
            "type": "mesh3d"
           }
          ],
          "parcoords": [
           {
            "line": {
             "colorbar": {
              "outlinewidth": 0,
              "ticks": ""
             }
            },
            "type": "parcoords"
           }
          ],
          "pie": [
           {
            "automargin": true,
            "type": "pie"
           }
          ],
          "scatter": [
           {
            "fillpattern": {
             "fillmode": "overlay",
             "size": 10,
             "solidity": 0.2
            },
            "type": "scatter"
           }
          ],
          "scatter3d": [
           {
            "line": {
             "colorbar": {
              "outlinewidth": 0,
              "ticks": ""
             }
            },
            "marker": {
             "colorbar": {
              "outlinewidth": 0,
              "ticks": ""
             }
            },
            "type": "scatter3d"
           }
          ],
          "scattercarpet": [
           {
            "marker": {
             "colorbar": {
              "outlinewidth": 0,
              "ticks": ""
             }
            },
            "type": "scattercarpet"
           }
          ],
          "scattergeo": [
           {
            "marker": {
             "colorbar": {
              "outlinewidth": 0,
              "ticks": ""
             }
            },
            "type": "scattergeo"
           }
          ],
          "scattergl": [
           {
            "marker": {
             "colorbar": {
              "outlinewidth": 0,
              "ticks": ""
             }
            },
            "type": "scattergl"
           }
          ],
          "scattermap": [
           {
            "marker": {
             "colorbar": {
              "outlinewidth": 0,
              "ticks": ""
             }
            },
            "type": "scattermap"
           }
          ],
          "scattermapbox": [
           {
            "marker": {
             "colorbar": {
              "outlinewidth": 0,
              "ticks": ""
             }
            },
            "type": "scattermapbox"
           }
          ],
          "scatterpolar": [
           {
            "marker": {
             "colorbar": {
              "outlinewidth": 0,
              "ticks": ""
             }
            },
            "type": "scatterpolar"
           }
          ],
          "scatterpolargl": [
           {
            "marker": {
             "colorbar": {
              "outlinewidth": 0,
              "ticks": ""
             }
            },
            "type": "scatterpolargl"
           }
          ],
          "scatterternary": [
           {
            "marker": {
             "colorbar": {
              "outlinewidth": 0,
              "ticks": ""
             }
            },
            "type": "scatterternary"
           }
          ],
          "surface": [
           {
            "colorbar": {
             "outlinewidth": 0,
             "ticks": ""
            },
            "colorscale": [
             [
              0,
              "#0d0887"
             ],
             [
              0.1111111111111111,
              "#46039f"
             ],
             [
              0.2222222222222222,
              "#7201a8"
             ],
             [
              0.3333333333333333,
              "#9c179e"
             ],
             [
              0.4444444444444444,
              "#bd3786"
             ],
             [
              0.5555555555555556,
              "#d8576b"
             ],
             [
              0.6666666666666666,
              "#ed7953"
             ],
             [
              0.7777777777777778,
              "#fb9f3a"
             ],
             [
              0.8888888888888888,
              "#fdca26"
             ],
             [
              1,
              "#f0f921"
             ]
            ],
            "type": "surface"
           }
          ],
          "table": [
           {
            "cells": {
             "fill": {
              "color": "#EBF0F8"
             },
             "line": {
              "color": "white"
             }
            },
            "header": {
             "fill": {
              "color": "#C8D4E3"
             },
             "line": {
              "color": "white"
             }
            },
            "type": "table"
           }
          ]
         },
         "layout": {
          "annotationdefaults": {
           "arrowcolor": "#2a3f5f",
           "arrowhead": 0,
           "arrowwidth": 1
          },
          "autotypenumbers": "strict",
          "coloraxis": {
           "colorbar": {
            "outlinewidth": 0,
            "ticks": ""
           }
          },
          "colorscale": {
           "diverging": [
            [
             0,
             "#8e0152"
            ],
            [
             0.1,
             "#c51b7d"
            ],
            [
             0.2,
             "#de77ae"
            ],
            [
             0.3,
             "#f1b6da"
            ],
            [
             0.4,
             "#fde0ef"
            ],
            [
             0.5,
             "#f7f7f7"
            ],
            [
             0.6,
             "#e6f5d0"
            ],
            [
             0.7,
             "#b8e186"
            ],
            [
             0.8,
             "#7fbc41"
            ],
            [
             0.9,
             "#4d9221"
            ],
            [
             1,
             "#276419"
            ]
           ],
           "sequential": [
            [
             0,
             "#0d0887"
            ],
            [
             0.1111111111111111,
             "#46039f"
            ],
            [
             0.2222222222222222,
             "#7201a8"
            ],
            [
             0.3333333333333333,
             "#9c179e"
            ],
            [
             0.4444444444444444,
             "#bd3786"
            ],
            [
             0.5555555555555556,
             "#d8576b"
            ],
            [
             0.6666666666666666,
             "#ed7953"
            ],
            [
             0.7777777777777778,
             "#fb9f3a"
            ],
            [
             0.8888888888888888,
             "#fdca26"
            ],
            [
             1,
             "#f0f921"
            ]
           ],
           "sequentialminus": [
            [
             0,
             "#0d0887"
            ],
            [
             0.1111111111111111,
             "#46039f"
            ],
            [
             0.2222222222222222,
             "#7201a8"
            ],
            [
             0.3333333333333333,
             "#9c179e"
            ],
            [
             0.4444444444444444,
             "#bd3786"
            ],
            [
             0.5555555555555556,
             "#d8576b"
            ],
            [
             0.6666666666666666,
             "#ed7953"
            ],
            [
             0.7777777777777778,
             "#fb9f3a"
            ],
            [
             0.8888888888888888,
             "#fdca26"
            ],
            [
             1,
             "#f0f921"
            ]
           ]
          },
          "colorway": [
           "#636efa",
           "#EF553B",
           "#00cc96",
           "#ab63fa",
           "#FFA15A",
           "#19d3f3",
           "#FF6692",
           "#B6E880",
           "#FF97FF",
           "#FECB52"
          ],
          "font": {
           "color": "#2a3f5f"
          },
          "geo": {
           "bgcolor": "white",
           "lakecolor": "white",
           "landcolor": "#E5ECF6",
           "showlakes": true,
           "showland": true,
           "subunitcolor": "white"
          },
          "hoverlabel": {
           "align": "left"
          },
          "hovermode": "closest",
          "mapbox": {
           "style": "light"
          },
          "paper_bgcolor": "white",
          "plot_bgcolor": "#E5ECF6",
          "polar": {
           "angularaxis": {
            "gridcolor": "white",
            "linecolor": "white",
            "ticks": ""
           },
           "bgcolor": "#E5ECF6",
           "radialaxis": {
            "gridcolor": "white",
            "linecolor": "white",
            "ticks": ""
           }
          },
          "scene": {
           "xaxis": {
            "backgroundcolor": "#E5ECF6",
            "gridcolor": "white",
            "gridwidth": 2,
            "linecolor": "white",
            "showbackground": true,
            "ticks": "",
            "zerolinecolor": "white"
           },
           "yaxis": {
            "backgroundcolor": "#E5ECF6",
            "gridcolor": "white",
            "gridwidth": 2,
            "linecolor": "white",
            "showbackground": true,
            "ticks": "",
            "zerolinecolor": "white"
           },
           "zaxis": {
            "backgroundcolor": "#E5ECF6",
            "gridcolor": "white",
            "gridwidth": 2,
            "linecolor": "white",
            "showbackground": true,
            "ticks": "",
            "zerolinecolor": "white"
           }
          },
          "shapedefaults": {
           "line": {
            "color": "#2a3f5f"
           }
          },
          "ternary": {
           "aaxis": {
            "gridcolor": "white",
            "linecolor": "white",
            "ticks": ""
           },
           "baxis": {
            "gridcolor": "white",
            "linecolor": "white",
            "ticks": ""
           },
           "bgcolor": "#E5ECF6",
           "caxis": {
            "gridcolor": "white",
            "linecolor": "white",
            "ticks": ""
           }
          },
          "title": {
           "x": 0.05
          },
          "xaxis": {
           "automargin": true,
           "gridcolor": "white",
           "linecolor": "white",
           "ticks": "",
           "title": {
            "standoff": 15
           },
           "zerolinecolor": "white",
           "zerolinewidth": 2
          },
          "yaxis": {
           "automargin": true,
           "gridcolor": "white",
           "linecolor": "white",
           "ticks": "",
           "title": {
            "standoff": 15
           },
           "zerolinecolor": "white",
           "zerolinewidth": 2
          }
         }
        },
        "title": {
         "x": 0.5
        },
        "xaxis": {
         "anchor": "y",
         "domain": [
          0,
          1
         ],
         "side": "top",
         "title": {
          "text": "Year"
         }
        },
        "yaxis": {
         "anchor": "x",
         "autorange": "reversed",
         "domain": [
          0,
          1
         ],
         "title": {
          "text": "Country"
         }
        }
       }
      }
     },
     "metadata": {},
     "output_type": "display_data"
    }
   ],
   "source": [
    "country_counts = ref.groupby('country')['count'].sum().sort_values(ascending=False)\n",
    "\n",
    "# --- 2. Get top 5 countries by total count ---\n",
    "top_countries = country_counts.head(5).index.tolist()\n",
    "\n",
    "# --- 3. Filter original dataframe for those countries ---\n",
    "df_top = ref[ref['country'].isin(top_countries)]\n",
    "\n",
    "# --- 4. Create pivot table for heatmap ---\n",
    "heatmap_data = df_top.pivot_table(index='country', columns='year', values='count', aggfunc='sum', fill_value=0)\n",
    "\n",
    "# --- 5. Create heatmap using Plotly ---\n",
    "fig = px.imshow(\n",
    "    heatmap_data,\n",
    "    text_auto=True,\n",
    "    color_continuous_scale='Blues',\n",
    "    aspect='auto',\n",
    "    labels=dict(x=\"Year\", y=\"Country\", color=\"Count\")\n",
    ")\n",
    "\n",
    "fig.update_layout(\n",
    "    title_x=0.5,\n",
    "    font=dict(size=14),\n",
    "    xaxis=dict(side='top')\n",
    ")\n",
    "\n",
    "fig.show()"
   ]
  },
  {
   "cell_type": "markdown",
   "id": "8e1c0595",
   "metadata": {},
   "source": [
    "## 8. A34(1) Grounds – What is Behind the Refusals?\n",
    "\n",
    "To better understand the nature of A34(1) refusals, we broke down the specific inadmissibility grounds for the top five countries with the highest refusal counts. Here is what stood out:\n",
    "\n",
    "- Ukraine: Around 80% of the refusals fall under A34(1)(f), with the rest mostly under (a). Interestingly, almost all of these refusals are for temporary resident applications.\n",
    "\n",
    "- Bangladesh: About 90% of refusals are based on A34(1)(f), and like Syria, most refusals are for permanent residents.\n",
    "\n",
    "- Iran: Refusals are more evenly distributed across multiple grounds—A34(1)(f), (d), (c), and (b)—suggesting a broader application of inadmissibility clauses in their case.\n",
    "\n",
    "- Syria: Around 50% of refusals fall under (f), but there is also a significant number under (d), (b), and (c). These are again mostly permanent resident cases.\n",
    "\n",
    "- China: Roughly 70% are based on A34(1)(f), with smaller shares under (a) and (c)."
   ]
  },
  {
   "cell_type": "code",
   "execution_count": 15,
   "id": "ea2b3226",
   "metadata": {},
   "outputs": [
    {
     "data": {
      "application/vnd.plotly.v1+json": {
       "config": {
        "plotlyServerURL": "https://plot.ly"
       },
       "data": [
        {
         "branchvalues": "total",
         "customdata": {
          "bdata": "AAAAAAAA8D8AAAAAAAAQQAAAAAAAAPA/AAAAAAAAKkAAAAAAAAAAQAAAAAAAABBAAAAAAAAAP0AAAAAAAAAAQAAAAAAAABhAAAAAAAAAJkAAAAAAAAAAQAAAAAAAAAhAAAAAAAAAIEAAAAAAAAAIQAAAAAAAACBAAAAAAAAAAEAAAAAAAAA6QAAAAAAAADBAAAAAAAAAAEAAAAAAAABMQAAAAAAAgERAAAAAAAAAO0AAAAAAAABNQAAAAAAAYGFAAAAAAACAUUAAAAAAAEBZQAAAAAAAAE9AAAAAAACATEAAAAAAAABmQA==",
          "dtype": "f8",
          "shape": "29, 1"
         },
         "domain": {
          "x": [
           0,
           1
          ],
          "y": [
           0,
           1
          ]
         },
         "hovertemplate": "labels=%{label}<br>count=%{customdata[0]}<br>parent=%{parent}<br>id=%{id}<extra></extra>",
         "ids": [
          "Iran/A34(1)",
          "Syria/A34(1)",
          "Bangladesh/A34(1)(a)",
          "China/A34(1)(a)",
          "Iran/A34(1)(a)",
          "Syria/A34(1)(a)",
          "Ukraine/A34(1)(a)",
          "Bangladesh/A34(1)(b)",
          "Iran/A34(1)(b)",
          "Syria/A34(1)(b)",
          "Ukraine/A34(1)(b)",
          "Bangladesh/A34(1)(c)",
          "Iran/A34(1)(c)",
          "China/A34(1)(c)",
          "Syria/A34(1)(c)",
          "Ukraine/A34(1)(c)",
          "Iran/A34(1)(d)",
          "Syria/A34(1)(d)",
          "Ukraine/A34(1)(d)",
          "Bangladesh/A34(1)(f)",
          "China/A34(1)(f)",
          "Iran/A34(1)(f)",
          "Syria/A34(1)(f)",
          "Ukraine/A34(1)(f)",
          "Iran",
          "Syria",
          "Bangladesh",
          "China",
          "Ukraine"
         ],
         "labels": [
          "A34(1)",
          "A34(1)",
          "A34(1)(a)",
          "A34(1)(a)",
          "A34(1)(a)",
          "A34(1)(a)",
          "A34(1)(a)",
          "A34(1)(b)",
          "A34(1)(b)",
          "A34(1)(b)",
          "A34(1)(b)",
          "A34(1)(c)",
          "A34(1)(c)",
          "A34(1)(c)",
          "A34(1)(c)",
          "A34(1)(c)",
          "A34(1)(d)",
          "A34(1)(d)",
          "A34(1)(d)",
          "A34(1)(f)",
          "A34(1)(f)",
          "A34(1)(f)",
          "A34(1)(f)",
          "A34(1)(f)",
          "Iran",
          "Syria",
          "Bangladesh",
          "China",
          "Ukraine"
         ],
         "name": "",
         "parents": [
          "Iran",
          "Syria",
          "Bangladesh",
          "China",
          "Iran",
          "Syria",
          "Ukraine",
          "Bangladesh",
          "Iran",
          "Syria",
          "Ukraine",
          "Bangladesh",
          "Iran",
          "China",
          "Syria",
          "Ukraine",
          "Iran",
          "Syria",
          "Ukraine",
          "Bangladesh",
          "China",
          "Iran",
          "Syria",
          "Ukraine",
          "",
          "",
          "",
          "",
          ""
         ],
         "textinfo": "label+value+percent entry",
         "type": "treemap",
         "values": {
          "bdata": "AAAAAAAA8D8AAAAAAAAQQAAAAAAAAPA/AAAAAAAAKkAAAAAAAAAAQAAAAAAAABBAAAAAAAAAP0AAAAAAAAAAQAAAAAAAABhAAAAAAAAAJkAAAAAAAAAAQAAAAAAAAAhAAAAAAAAAIEAAAAAAAAAIQAAAAAAAACBAAAAAAAAAAEAAAAAAAAA6QAAAAAAAADBAAAAAAAAAAEAAAAAAAABMQAAAAAAAgERAAAAAAAAAO0AAAAAAAABNQAAAAAAAYGFAAAAAAACAUUAAAAAAAEBZQAAAAAAAAE9AAAAAAACATEAAAAAAAABmQA==",
          "dtype": "f8"
         }
        }
       ],
       "layout": {
        "font": {
         "size": 20
        },
        "height": 800,
        "legend": {
         "tracegroupgap": 0
        },
        "margin": {
         "b": 5,
         "l": 5,
         "r": 5,
         "t": 50
        },
        "template": {
         "data": {
          "bar": [
           {
            "error_x": {
             "color": "#2a3f5f"
            },
            "error_y": {
             "color": "#2a3f5f"
            },
            "marker": {
             "line": {
              "color": "#E5ECF6",
              "width": 0.5
             },
             "pattern": {
              "fillmode": "overlay",
              "size": 10,
              "solidity": 0.2
             }
            },
            "type": "bar"
           }
          ],
          "barpolar": [
           {
            "marker": {
             "line": {
              "color": "#E5ECF6",
              "width": 0.5
             },
             "pattern": {
              "fillmode": "overlay",
              "size": 10,
              "solidity": 0.2
             }
            },
            "type": "barpolar"
           }
          ],
          "carpet": [
           {
            "aaxis": {
             "endlinecolor": "#2a3f5f",
             "gridcolor": "white",
             "linecolor": "white",
             "minorgridcolor": "white",
             "startlinecolor": "#2a3f5f"
            },
            "baxis": {
             "endlinecolor": "#2a3f5f",
             "gridcolor": "white",
             "linecolor": "white",
             "minorgridcolor": "white",
             "startlinecolor": "#2a3f5f"
            },
            "type": "carpet"
           }
          ],
          "choropleth": [
           {
            "colorbar": {
             "outlinewidth": 0,
             "ticks": ""
            },
            "type": "choropleth"
           }
          ],
          "contour": [
           {
            "colorbar": {
             "outlinewidth": 0,
             "ticks": ""
            },
            "colorscale": [
             [
              0,
              "#0d0887"
             ],
             [
              0.1111111111111111,
              "#46039f"
             ],
             [
              0.2222222222222222,
              "#7201a8"
             ],
             [
              0.3333333333333333,
              "#9c179e"
             ],
             [
              0.4444444444444444,
              "#bd3786"
             ],
             [
              0.5555555555555556,
              "#d8576b"
             ],
             [
              0.6666666666666666,
              "#ed7953"
             ],
             [
              0.7777777777777778,
              "#fb9f3a"
             ],
             [
              0.8888888888888888,
              "#fdca26"
             ],
             [
              1,
              "#f0f921"
             ]
            ],
            "type": "contour"
           }
          ],
          "contourcarpet": [
           {
            "colorbar": {
             "outlinewidth": 0,
             "ticks": ""
            },
            "type": "contourcarpet"
           }
          ],
          "heatmap": [
           {
            "colorbar": {
             "outlinewidth": 0,
             "ticks": ""
            },
            "colorscale": [
             [
              0,
              "#0d0887"
             ],
             [
              0.1111111111111111,
              "#46039f"
             ],
             [
              0.2222222222222222,
              "#7201a8"
             ],
             [
              0.3333333333333333,
              "#9c179e"
             ],
             [
              0.4444444444444444,
              "#bd3786"
             ],
             [
              0.5555555555555556,
              "#d8576b"
             ],
             [
              0.6666666666666666,
              "#ed7953"
             ],
             [
              0.7777777777777778,
              "#fb9f3a"
             ],
             [
              0.8888888888888888,
              "#fdca26"
             ],
             [
              1,
              "#f0f921"
             ]
            ],
            "type": "heatmap"
           }
          ],
          "histogram": [
           {
            "marker": {
             "pattern": {
              "fillmode": "overlay",
              "size": 10,
              "solidity": 0.2
             }
            },
            "type": "histogram"
           }
          ],
          "histogram2d": [
           {
            "colorbar": {
             "outlinewidth": 0,
             "ticks": ""
            },
            "colorscale": [
             [
              0,
              "#0d0887"
             ],
             [
              0.1111111111111111,
              "#46039f"
             ],
             [
              0.2222222222222222,
              "#7201a8"
             ],
             [
              0.3333333333333333,
              "#9c179e"
             ],
             [
              0.4444444444444444,
              "#bd3786"
             ],
             [
              0.5555555555555556,
              "#d8576b"
             ],
             [
              0.6666666666666666,
              "#ed7953"
             ],
             [
              0.7777777777777778,
              "#fb9f3a"
             ],
             [
              0.8888888888888888,
              "#fdca26"
             ],
             [
              1,
              "#f0f921"
             ]
            ],
            "type": "histogram2d"
           }
          ],
          "histogram2dcontour": [
           {
            "colorbar": {
             "outlinewidth": 0,
             "ticks": ""
            },
            "colorscale": [
             [
              0,
              "#0d0887"
             ],
             [
              0.1111111111111111,
              "#46039f"
             ],
             [
              0.2222222222222222,
              "#7201a8"
             ],
             [
              0.3333333333333333,
              "#9c179e"
             ],
             [
              0.4444444444444444,
              "#bd3786"
             ],
             [
              0.5555555555555556,
              "#d8576b"
             ],
             [
              0.6666666666666666,
              "#ed7953"
             ],
             [
              0.7777777777777778,
              "#fb9f3a"
             ],
             [
              0.8888888888888888,
              "#fdca26"
             ],
             [
              1,
              "#f0f921"
             ]
            ],
            "type": "histogram2dcontour"
           }
          ],
          "mesh3d": [
           {
            "colorbar": {
             "outlinewidth": 0,
             "ticks": ""
            },
            "type": "mesh3d"
           }
          ],
          "parcoords": [
           {
            "line": {
             "colorbar": {
              "outlinewidth": 0,
              "ticks": ""
             }
            },
            "type": "parcoords"
           }
          ],
          "pie": [
           {
            "automargin": true,
            "type": "pie"
           }
          ],
          "scatter": [
           {
            "fillpattern": {
             "fillmode": "overlay",
             "size": 10,
             "solidity": 0.2
            },
            "type": "scatter"
           }
          ],
          "scatter3d": [
           {
            "line": {
             "colorbar": {
              "outlinewidth": 0,
              "ticks": ""
             }
            },
            "marker": {
             "colorbar": {
              "outlinewidth": 0,
              "ticks": ""
             }
            },
            "type": "scatter3d"
           }
          ],
          "scattercarpet": [
           {
            "marker": {
             "colorbar": {
              "outlinewidth": 0,
              "ticks": ""
             }
            },
            "type": "scattercarpet"
           }
          ],
          "scattergeo": [
           {
            "marker": {
             "colorbar": {
              "outlinewidth": 0,
              "ticks": ""
             }
            },
            "type": "scattergeo"
           }
          ],
          "scattergl": [
           {
            "marker": {
             "colorbar": {
              "outlinewidth": 0,
              "ticks": ""
             }
            },
            "type": "scattergl"
           }
          ],
          "scattermap": [
           {
            "marker": {
             "colorbar": {
              "outlinewidth": 0,
              "ticks": ""
             }
            },
            "type": "scattermap"
           }
          ],
          "scattermapbox": [
           {
            "marker": {
             "colorbar": {
              "outlinewidth": 0,
              "ticks": ""
             }
            },
            "type": "scattermapbox"
           }
          ],
          "scatterpolar": [
           {
            "marker": {
             "colorbar": {
              "outlinewidth": 0,
              "ticks": ""
             }
            },
            "type": "scatterpolar"
           }
          ],
          "scatterpolargl": [
           {
            "marker": {
             "colorbar": {
              "outlinewidth": 0,
              "ticks": ""
             }
            },
            "type": "scatterpolargl"
           }
          ],
          "scatterternary": [
           {
            "marker": {
             "colorbar": {
              "outlinewidth": 0,
              "ticks": ""
             }
            },
            "type": "scatterternary"
           }
          ],
          "surface": [
           {
            "colorbar": {
             "outlinewidth": 0,
             "ticks": ""
            },
            "colorscale": [
             [
              0,
              "#0d0887"
             ],
             [
              0.1111111111111111,
              "#46039f"
             ],
             [
              0.2222222222222222,
              "#7201a8"
             ],
             [
              0.3333333333333333,
              "#9c179e"
             ],
             [
              0.4444444444444444,
              "#bd3786"
             ],
             [
              0.5555555555555556,
              "#d8576b"
             ],
             [
              0.6666666666666666,
              "#ed7953"
             ],
             [
              0.7777777777777778,
              "#fb9f3a"
             ],
             [
              0.8888888888888888,
              "#fdca26"
             ],
             [
              1,
              "#f0f921"
             ]
            ],
            "type": "surface"
           }
          ],
          "table": [
           {
            "cells": {
             "fill": {
              "color": "#EBF0F8"
             },
             "line": {
              "color": "white"
             }
            },
            "header": {
             "fill": {
              "color": "#C8D4E3"
             },
             "line": {
              "color": "white"
             }
            },
            "type": "table"
           }
          ]
         },
         "layout": {
          "annotationdefaults": {
           "arrowcolor": "#2a3f5f",
           "arrowhead": 0,
           "arrowwidth": 1
          },
          "autotypenumbers": "strict",
          "coloraxis": {
           "colorbar": {
            "outlinewidth": 0,
            "ticks": ""
           }
          },
          "colorscale": {
           "diverging": [
            [
             0,
             "#8e0152"
            ],
            [
             0.1,
             "#c51b7d"
            ],
            [
             0.2,
             "#de77ae"
            ],
            [
             0.3,
             "#f1b6da"
            ],
            [
             0.4,
             "#fde0ef"
            ],
            [
             0.5,
             "#f7f7f7"
            ],
            [
             0.6,
             "#e6f5d0"
            ],
            [
             0.7,
             "#b8e186"
            ],
            [
             0.8,
             "#7fbc41"
            ],
            [
             0.9,
             "#4d9221"
            ],
            [
             1,
             "#276419"
            ]
           ],
           "sequential": [
            [
             0,
             "#0d0887"
            ],
            [
             0.1111111111111111,
             "#46039f"
            ],
            [
             0.2222222222222222,
             "#7201a8"
            ],
            [
             0.3333333333333333,
             "#9c179e"
            ],
            [
             0.4444444444444444,
             "#bd3786"
            ],
            [
             0.5555555555555556,
             "#d8576b"
            ],
            [
             0.6666666666666666,
             "#ed7953"
            ],
            [
             0.7777777777777778,
             "#fb9f3a"
            ],
            [
             0.8888888888888888,
             "#fdca26"
            ],
            [
             1,
             "#f0f921"
            ]
           ],
           "sequentialminus": [
            [
             0,
             "#0d0887"
            ],
            [
             0.1111111111111111,
             "#46039f"
            ],
            [
             0.2222222222222222,
             "#7201a8"
            ],
            [
             0.3333333333333333,
             "#9c179e"
            ],
            [
             0.4444444444444444,
             "#bd3786"
            ],
            [
             0.5555555555555556,
             "#d8576b"
            ],
            [
             0.6666666666666666,
             "#ed7953"
            ],
            [
             0.7777777777777778,
             "#fb9f3a"
            ],
            [
             0.8888888888888888,
             "#fdca26"
            ],
            [
             1,
             "#f0f921"
            ]
           ]
          },
          "colorway": [
           "#636efa",
           "#EF553B",
           "#00cc96",
           "#ab63fa",
           "#FFA15A",
           "#19d3f3",
           "#FF6692",
           "#B6E880",
           "#FF97FF",
           "#FECB52"
          ],
          "font": {
           "color": "#2a3f5f"
          },
          "geo": {
           "bgcolor": "white",
           "lakecolor": "white",
           "landcolor": "#E5ECF6",
           "showlakes": true,
           "showland": true,
           "subunitcolor": "white"
          },
          "hoverlabel": {
           "align": "left"
          },
          "hovermode": "closest",
          "mapbox": {
           "style": "light"
          },
          "paper_bgcolor": "white",
          "plot_bgcolor": "#E5ECF6",
          "polar": {
           "angularaxis": {
            "gridcolor": "white",
            "linecolor": "white",
            "ticks": ""
           },
           "bgcolor": "#E5ECF6",
           "radialaxis": {
            "gridcolor": "white",
            "linecolor": "white",
            "ticks": ""
           }
          },
          "scene": {
           "xaxis": {
            "backgroundcolor": "#E5ECF6",
            "gridcolor": "white",
            "gridwidth": 2,
            "linecolor": "white",
            "showbackground": true,
            "ticks": "",
            "zerolinecolor": "white"
           },
           "yaxis": {
            "backgroundcolor": "#E5ECF6",
            "gridcolor": "white",
            "gridwidth": 2,
            "linecolor": "white",
            "showbackground": true,
            "ticks": "",
            "zerolinecolor": "white"
           },
           "zaxis": {
            "backgroundcolor": "#E5ECF6",
            "gridcolor": "white",
            "gridwidth": 2,
            "linecolor": "white",
            "showbackground": true,
            "ticks": "",
            "zerolinecolor": "white"
           }
          },
          "shapedefaults": {
           "line": {
            "color": "#2a3f5f"
           }
          },
          "ternary": {
           "aaxis": {
            "gridcolor": "white",
            "linecolor": "white",
            "ticks": ""
           },
           "baxis": {
            "gridcolor": "white",
            "linecolor": "white",
            "ticks": ""
           },
           "bgcolor": "#E5ECF6",
           "caxis": {
            "gridcolor": "white",
            "linecolor": "white",
            "ticks": ""
           }
          },
          "title": {
           "x": 0.05
          },
          "xaxis": {
           "automargin": true,
           "gridcolor": "white",
           "linecolor": "white",
           "ticks": "",
           "title": {
            "standoff": 15
           },
           "zerolinecolor": "white",
           "zerolinewidth": 2
          },
          "yaxis": {
           "automargin": true,
           "gridcolor": "white",
           "linecolor": "white",
           "ticks": "",
           "title": {
            "standoff": 15
           },
           "zerolinecolor": "white",
           "zerolinewidth": 2
          }
         }
        },
        "title": {
         "font": {
          "size": 24
         }
        },
        "width": 1400
       }
      }
     },
     "metadata": {},
     "output_type": "display_data"
    }
   ],
   "source": [
    "fig_top10 = px.treemap(\n",
    "    df_top,\n",
    "    path=[\"country\", \"inadmissibility_grounds\"],\n",
    "    values=\"count\",\n",
    "    hover_data=[\"count\"],\n",
    ")\n",
    "\n",
    "fig_top10.update_traces(\n",
    "    textinfo=\"label+value+percent entry\"\n",
    ")\n",
    "\n",
    "fig_top10.update_layout(\n",
    "    width=1400,\n",
    "    height=800,\n",
    "    margin=dict(t=50, l=5, r=5, b=5),\n",
    "    font=dict(\n",
    "        size=20\n",
    "    ),\n",
    "    title_font_size=24\n",
    ")\n",
    "\n",
    "fig_top10.show()"
   ]
  },
  {
   "cell_type": "markdown",
   "id": "903be038",
   "metadata": {},
   "source": [
    "## 9. What Does All This Suggest?\n",
    "### Geopolitics\n",
    "There seems to be some connection between international relations and immigration outcomes. For example, Ukraine’s sudden spike in refusals in 2024 and Iran’s consistently high litigation volume could be influenced by broader geopolitical dynamics. But we can't confirm this without better data.\n",
    "\n",
    "### Anti-Black Racism\n",
    "Nigeria's numbers are interesting, it's the top country for litigation but barely shows up in A34(1) refusals. This might suggest a different kind of bias or structural issue, especially when we consider the high rate of RAD litigation. We would need more disaggregated data to explore this further.\n",
    "\n",
    "### Litigation Trends\n",
    "- Mandamus cases are on the rise — especially from China in 2023.\n",
    "\n",
    "- Visa refusals are a major litigation trigger for Iran.\n",
    "\n",
    "- RAD cases are common for African countries, especially Nigeria.\n",
    "\n",
    "### Data Gaps\n",
    "A lot of what we would like to say more confidently is blocked by missing data:\n",
    "\n",
    "- We don't have the filing date for litigation or the original application date.\n",
    "\n",
    "- There is no link between a refusal and any corresponding litigation.\n",
    "\n",
    "- And we don’t know how many applications were approved or refused by country, we only see the refusals.\n",
    "\n",
    "These gaps mean we can’t draw strong conclusions or do statistical significance testing. The data is interesting, but not transparent or complete enough.\n",
    "\n",
    "## 10. Final Thoughts\n",
    "We have uncovered some clear patterns, like spikes in litigation and refusal for specific countries, or how case types affect outcomes. But the bigger story is that the current datasets don’t let us connect the dots all the way. Until IRCC and the courts release more detailed and linked data, we’ll keep running into these same limitations."
   ]
  }
 ],
 "metadata": {
  "kernelspec": {
   "display_name": "heron_law",
   "language": "python",
   "name": "python3"
  },
  "language_info": {
   "codemirror_mode": {
    "name": "ipython",
    "version": 3
   },
   "file_extension": ".py",
   "mimetype": "text/x-python",
   "name": "python",
   "nbconvert_exporter": "python",
   "pygments_lexer": "ipython3",
   "version": "3.12.10"
  }
 },
 "nbformat": 4,
 "nbformat_minor": 5
}
