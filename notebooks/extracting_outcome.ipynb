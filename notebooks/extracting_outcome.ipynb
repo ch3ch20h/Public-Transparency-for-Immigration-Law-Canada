{
 "cells": [
  {
   "cell_type": "code",
   "execution_count": 1,
   "id": "1cebb670",
   "metadata": {},
   "outputs": [],
   "source": [
    "import pandas as pd\n",
    "import subprocess\n",
    "import ast\n",
    "import re"
   ]
  },
  {
   "cell_type": "markdown",
   "id": "e5b63a64",
   "metadata": {},
   "source": [
    "## Function to extract the outcome"
   ]
  },
  {
   "cell_type": "code",
   "execution_count": 23,
   "id": "d45f744c",
   "metadata": {},
   "outputs": [],
   "source": [
    "def extract_case_outcome(text, start, end, model=\"llama3\"):\n",
    "    \"\"\"\n",
    "    Extract the outcome of a legal case in a single word.\n",
    "\n",
    "    Parameters\n",
    "    ----------\n",
    "    text : str\n",
    "        The court text from which to extract the outcome.\n",
    "    model : str, optional\n",
    "        The language model to use (default is \"llama3\").\n",
    "\n",
    "    Returns\n",
    "    -------\n",
    "    str\n",
    "        A single word summarizing the case outcome (e.g., \"allowed\", \"dismissed\", \"granted\").\n",
    "        Returns \"unknown\" if no outcome is identified.\n",
    "    \"\"\"\n",
    "    lines = text.splitlines()\n",
    "    relevant_text = \"\\n\".join(lines[start:end])\n",
    "    prompt = f\"\"\"\n",
    "You are a legal assistant. Your task is to determine the outcome of the court case based on the provided excerpt.\n",
    "\n",
    "Instructions:\n",
    "- Read the text carefully and identify the final decision or outcome.\n",
    "- Return only one lowercase word that best summarizes the outcome (e.g., \"allowed\", \"dismissed\", etc).\n",
    "- If the outcome is unclear or not mentioned, return \"unknown\".\n",
    "\n",
    "Court Text:\n",
    "{relevant_text}\n",
    "\n",
    "Output:\n",
    "\"\"\"\n",
    "\n",
    "    result = subprocess.run(\n",
    "        [\"ollama\", \"run\", model],\n",
    "        input=prompt.encode(),\n",
    "        stdout=subprocess.PIPE,\n",
    "        stderr=subprocess.PIPE\n",
    "    )\n",
    "    return result.stdout.decode().strip().lower()\n",
    "\n",
    "def extract_case_outcomes_from_dataframe(df, start, end, text_column=\"unofficial_text\", model=\"llama3\"):\n",
    "    \"\"\"\n",
    "    Extract the case outcome (single word) from a DataFrame containing court texts.\n",
    "\n",
    "    Parameters\n",
    "    ----------\n",
    "    df : pandas.DataFrame\n",
    "        The DataFrame containing court text data.\n",
    "    text_column : str, optional\n",
    "        The column name in `df` that contains the court text (default is \"unofficial_text\").\n",
    "    model : str, optional\n",
    "        The language model to use (default is \"llama3\").\n",
    "\n",
    "    Returns\n",
    "    -------\n",
    "    pandas.DataFrame\n",
    "        A new DataFrame with an additional 'outcome' column containing the extracted outcome word.\n",
    "    \"\"\"\n",
    "    df = df.copy()\n",
    "    df[\"outcome\"] = None\n",
    "\n",
    "    for idx, row in df.iterrows():\n",
    "        full_text = row[text_column]\n",
    "        try:\n",
    "            outcome = extract_case_outcome(full_text, start, end, model=model)\n",
    "        except Exception as e:\n",
    "            print(f\"Error processing row {idx}: {e}\")\n",
    "            outcome = \"unknown\"\n",
    "\n",
    "        df.at[idx, \"outcome\"] = outcome\n",
    "        print(f\"Row {idx} processed with outcome: {outcome}\")\n",
    "    \n",
    "    return df"
   ]
  },
  {
   "cell_type": "markdown",
   "id": "8a8c374d",
   "metadata": {},
   "source": [
    "## Federal Court"
   ]
  },
  {
   "cell_type": "code",
   "execution_count": null,
   "id": "e52f7797",
   "metadata": {},
   "outputs": [],
   "source": [
    "FC = pd.read_csv(\"../data/processed/FC_city.csv\")\n",
    "FC"
   ]
  },
  {
   "cell_type": "code",
   "execution_count": null,
   "id": "6bea33b6",
   "metadata": {},
   "outputs": [],
   "source": [
    "FC_outcome = extract_case_outcomes_from_dataframe(FC, -50, -20)\n",
    "FC_outcome"
   ]
  },
  {
   "cell_type": "code",
   "execution_count": null,
   "id": "8fd81c6b",
   "metadata": {},
   "outputs": [],
   "source": [
    "FC_final = FC_outcome.drop(['Unnamed: 0', 'Unnamed: 0.1'], axis=1)\n",
    "FC_final"
   ]
  },
  {
   "cell_type": "code",
   "execution_count": null,
   "id": "ef677ac9",
   "metadata": {},
   "outputs": [],
   "source": [
    "FC_final['outcome'].value_counts()"
   ]
  },
  {
   "cell_type": "code",
   "execution_count": null,
   "id": "5a6f81ee",
   "metadata": {},
   "outputs": [],
   "source": [
    "FC_final.to_excel(\"../data/processed/inadmissibility_court_cases.xlsx\")"
   ]
  }
 ],
 "metadata": {
  "kernelspec": {
   "display_name": "heron_law",
   "language": "python",
   "name": "python3"
  },
  "language_info": {
   "codemirror_mode": {
    "name": "ipython",
    "version": 3
   },
   "file_extension": ".py",
   "mimetype": "text/x-python",
   "name": "python",
   "nbconvert_exporter": "python",
   "pygments_lexer": "ipython3",
   "version": "3.12.10"
  }
 },
 "nbformat": 4,
 "nbformat_minor": 5
}
